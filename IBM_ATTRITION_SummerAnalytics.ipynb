{
 "cells": [
  {
   "cell_type": "markdown",
   "metadata": {},
   "source": [
    "# Summer Analytics 2020 Capstone Project\n",
    "## Predicting Employee Attrition in the Dawn of Recession\n",
    "### Debojjal Bagchi\n",
    "### https://github.com/debojjalb"
   ]
  },
  {
   "cell_type": "markdown",
   "metadata": {},
   "source": [
    "## 1. Importing the libraries"
   ]
  },
  {
   "cell_type": "code",
   "execution_count": 1,
   "metadata": {},
   "outputs": [],
   "source": [
    "import numpy as np\n",
    "import matplotlib.pyplot as plt\n",
    "import h5py\n",
    "import scipy\n",
    "import numpy as np\n",
    "import pandas as pd\n",
    "import matplotlib.pyplot as plt\n",
    "import seaborn as sns\n",
    "%matplotlib inline"
   ]
  },
  {
   "cell_type": "markdown",
   "metadata": {},
   "source": [
    "## 2. Loading the Train Data"
   ]
  },
  {
   "cell_type": "code",
   "execution_count": 22,
   "metadata": {},
   "outputs": [
    {
     "data": {
      "text/html": [
       "<div>\n",
       "<style scoped>\n",
       "    .dataframe tbody tr th:only-of-type {\n",
       "        vertical-align: middle;\n",
       "    }\n",
       "\n",
       "    .dataframe tbody tr th {\n",
       "        vertical-align: top;\n",
       "    }\n",
       "\n",
       "    .dataframe thead th {\n",
       "        text-align: right;\n",
       "    }\n",
       "</style>\n",
       "<table border=\"1\" class=\"dataframe\">\n",
       "  <thead>\n",
       "    <tr style=\"text-align: right;\">\n",
       "      <th></th>\n",
       "      <th>Id</th>\n",
       "      <th>Age</th>\n",
       "      <th>Attrition</th>\n",
       "      <th>BusinessTravel</th>\n",
       "      <th>Department</th>\n",
       "      <th>DistanceFromHome</th>\n",
       "      <th>Education</th>\n",
       "      <th>EducationField</th>\n",
       "      <th>EmployeeNumber</th>\n",
       "      <th>EnvironmentSatisfaction</th>\n",
       "      <th>...</th>\n",
       "      <th>PerformanceRating</th>\n",
       "      <th>StockOptionLevel</th>\n",
       "      <th>TotalWorkingYears</th>\n",
       "      <th>TrainingTimesLastYear</th>\n",
       "      <th>YearsAtCompany</th>\n",
       "      <th>YearsInCurrentRole</th>\n",
       "      <th>YearsSinceLastPromotion</th>\n",
       "      <th>YearsWithCurrManager</th>\n",
       "      <th>CommunicationSkill</th>\n",
       "      <th>Behaviour</th>\n",
       "    </tr>\n",
       "  </thead>\n",
       "  <tbody>\n",
       "    <tr>\n",
       "      <th>0</th>\n",
       "      <td>1</td>\n",
       "      <td>30</td>\n",
       "      <td>0</td>\n",
       "      <td>Non-Travel</td>\n",
       "      <td>Research &amp; Development</td>\n",
       "      <td>2</td>\n",
       "      <td>3</td>\n",
       "      <td>Medical</td>\n",
       "      <td>571</td>\n",
       "      <td>3</td>\n",
       "      <td>...</td>\n",
       "      <td>3</td>\n",
       "      <td>0</td>\n",
       "      <td>12</td>\n",
       "      <td>2</td>\n",
       "      <td>11</td>\n",
       "      <td>7</td>\n",
       "      <td>6</td>\n",
       "      <td>7</td>\n",
       "      <td>4</td>\n",
       "      <td>1</td>\n",
       "    </tr>\n",
       "    <tr>\n",
       "      <th>1</th>\n",
       "      <td>2</td>\n",
       "      <td>36</td>\n",
       "      <td>0</td>\n",
       "      <td>Travel_Rarely</td>\n",
       "      <td>Research &amp; Development</td>\n",
       "      <td>12</td>\n",
       "      <td>4</td>\n",
       "      <td>Life Sciences</td>\n",
       "      <td>1614</td>\n",
       "      <td>3</td>\n",
       "      <td>...</td>\n",
       "      <td>3</td>\n",
       "      <td>2</td>\n",
       "      <td>7</td>\n",
       "      <td>2</td>\n",
       "      <td>3</td>\n",
       "      <td>2</td>\n",
       "      <td>1</td>\n",
       "      <td>1</td>\n",
       "      <td>2</td>\n",
       "      <td>1</td>\n",
       "    </tr>\n",
       "    <tr>\n",
       "      <th>2</th>\n",
       "      <td>3</td>\n",
       "      <td>55</td>\n",
       "      <td>1</td>\n",
       "      <td>Travel_Rarely</td>\n",
       "      <td>Sales</td>\n",
       "      <td>2</td>\n",
       "      <td>1</td>\n",
       "      <td>Medical</td>\n",
       "      <td>842</td>\n",
       "      <td>3</td>\n",
       "      <td>...</td>\n",
       "      <td>3</td>\n",
       "      <td>0</td>\n",
       "      <td>12</td>\n",
       "      <td>3</td>\n",
       "      <td>9</td>\n",
       "      <td>7</td>\n",
       "      <td>7</td>\n",
       "      <td>3</td>\n",
       "      <td>5</td>\n",
       "      <td>1</td>\n",
       "    </tr>\n",
       "    <tr>\n",
       "      <th>3</th>\n",
       "      <td>4</td>\n",
       "      <td>39</td>\n",
       "      <td>0</td>\n",
       "      <td>Travel_Rarely</td>\n",
       "      <td>Research &amp; Development</td>\n",
       "      <td>24</td>\n",
       "      <td>1</td>\n",
       "      <td>Life Sciences</td>\n",
       "      <td>2014</td>\n",
       "      <td>1</td>\n",
       "      <td>...</td>\n",
       "      <td>3</td>\n",
       "      <td>0</td>\n",
       "      <td>18</td>\n",
       "      <td>2</td>\n",
       "      <td>7</td>\n",
       "      <td>7</td>\n",
       "      <td>1</td>\n",
       "      <td>7</td>\n",
       "      <td>4</td>\n",
       "      <td>1</td>\n",
       "    </tr>\n",
       "    <tr>\n",
       "      <th>4</th>\n",
       "      <td>5</td>\n",
       "      <td>37</td>\n",
       "      <td>0</td>\n",
       "      <td>Travel_Rarely</td>\n",
       "      <td>Research &amp; Development</td>\n",
       "      <td>3</td>\n",
       "      <td>3</td>\n",
       "      <td>Other</td>\n",
       "      <td>689</td>\n",
       "      <td>3</td>\n",
       "      <td>...</td>\n",
       "      <td>3</td>\n",
       "      <td>1</td>\n",
       "      <td>10</td>\n",
       "      <td>2</td>\n",
       "      <td>10</td>\n",
       "      <td>7</td>\n",
       "      <td>7</td>\n",
       "      <td>8</td>\n",
       "      <td>1</td>\n",
       "      <td>1</td>\n",
       "    </tr>\n",
       "  </tbody>\n",
       "</table>\n",
       "<p>5 rows × 29 columns</p>\n",
       "</div>"
      ],
      "text/plain": [
       "   Id  Age  Attrition BusinessTravel              Department  \\\n",
       "0   1   30          0     Non-Travel  Research & Development   \n",
       "1   2   36          0  Travel_Rarely  Research & Development   \n",
       "2   3   55          1  Travel_Rarely                   Sales   \n",
       "3   4   39          0  Travel_Rarely  Research & Development   \n",
       "4   5   37          0  Travel_Rarely  Research & Development   \n",
       "\n",
       "   DistanceFromHome  Education EducationField  EmployeeNumber  \\\n",
       "0                 2          3        Medical             571   \n",
       "1                12          4  Life Sciences            1614   \n",
       "2                 2          1        Medical             842   \n",
       "3                24          1  Life Sciences            2014   \n",
       "4                 3          3          Other             689   \n",
       "\n",
       "   EnvironmentSatisfaction  ... PerformanceRating  StockOptionLevel  \\\n",
       "0                        3  ...                 3                 0   \n",
       "1                        3  ...                 3                 2   \n",
       "2                        3  ...                 3                 0   \n",
       "3                        1  ...                 3                 0   \n",
       "4                        3  ...                 3                 1   \n",
       "\n",
       "  TotalWorkingYears  TrainingTimesLastYear YearsAtCompany  YearsInCurrentRole  \\\n",
       "0                12                      2             11                   7   \n",
       "1                 7                      2              3                   2   \n",
       "2                12                      3              9                   7   \n",
       "3                18                      2              7                   7   \n",
       "4                10                      2             10                   7   \n",
       "\n",
       "   YearsSinceLastPromotion YearsWithCurrManager  CommunicationSkill  Behaviour  \n",
       "0                        6                    7                   4          1  \n",
       "1                        1                    1                   2          1  \n",
       "2                        7                    3                   5          1  \n",
       "3                        1                    7                   4          1  \n",
       "4                        7                    8                   1          1  \n",
       "\n",
       "[5 rows x 29 columns]"
      ]
     },
     "execution_count": 22,
     "metadata": {},
     "output_type": "execute_result"
    }
   ],
   "source": [
    "train = pd.read_csv('train.csv')\n",
    "train.shape\n",
    "train.head()"
   ]
  },
  {
   "cell_type": "markdown",
   "metadata": {},
   "source": [
    "#### ID & Employee number are not required for training purposes. Hence Dropped."
   ]
  },
  {
   "cell_type": "code",
   "execution_count": 23,
   "metadata": {},
   "outputs": [],
   "source": [
    "X_train = train.drop(['Id','EmployeeNumber'], axis =1)"
   ]
  },
  {
   "cell_type": "markdown",
   "metadata": {},
   "source": [
    "## 3. Feature Engineering"
   ]
  },
  {
   "cell_type": "markdown",
   "metadata": {},
   "source": [
    "### 3.1 Introducing New Features:\n",
    "\n",
    "- **Tenure per job**: Usually, people who have worked with many companies but for small periods at every organization tend to leave early as they always need a change of Organization to keep them going.\n",
    "\n",
    "- **Years without Change**: For any person, a change either in role or job level or responsibility is needed to keep the work exciting to continue. We create a variable to see how many years it has been for an employee without any sort of change using Promotion, Role and Job Change as a metric to cover different variants of change.\n",
    "\n",
    "- **Compa Ratio**: Compa Ratio is the ratio of the actual pay of an Employee to the midpoint of a salary range. The salary range can be that of his/her department or organization or role. The benchmark numbers can be a organization’s pay or Industry averag.\n",
    "\n",
    "- **Time_in_each_comp**: Age divided by the number of companies worked.\n",
    "\n",
    "- **JobSatisf_mean**: The Ratio of Job Satisfaction & Job Involvement.\n",
    "\n",
    "- **Income_Distance**: The Ratio of Monthly Income & Distance from home.\n",
    "\n",
    "- **Stability**: Ratio of Years in current role to years in a compamy.\n",
    "\n",
    "- **Income_YearsComp**: Ratio of Monthly Income to that of number of years in the company.\n",
    "\n",
    "- **Fidelity**: Ratio of number of companies worked to total working years.\n"
   ]
  },
  {
   "cell_type": "code",
   "execution_count": 24,
   "metadata": {},
   "outputs": [],
   "source": [
    "#TenurePerjob\n",
    "X_train['tenure']  = train['TotalWorkingYears'] / (train['NumCompaniesWorked'] + 1)\n",
    "\n",
    "#YearWithoutChange\n",
    "X_train['No_Change_1'] = train['YearsInCurrentRole'] - train['YearsSinceLastPromotion']\n",
    "\n",
    "#YearWithoutChange\n",
    "X_train['No_Change_2'] = train['TotalWorkingYears'] - train ['YearsSinceLastPromotion']"
   ]
  },
  {
   "cell_type": "code",
   "execution_count": 25,
   "metadata": {},
   "outputs": [
    {
     "name": "stdout",
     "output_type": "stream",
     "text": [
      "Department\n",
      "Human Resources           2742\n",
      "Research & Development    3760\n",
      "Sales                     5405\n",
      "Name: MonthlyIncome, dtype: int64\n"
     ]
    },
    {
     "data": {
      "text/plain": [
       "4304.0"
      ]
     },
     "execution_count": 25,
     "metadata": {},
     "output_type": "execute_result"
    }
   ],
   "source": [
    "#Compa_Ratio\n",
    "\n",
    "print(X_train.groupby('Department')['MonthlyIncome'].median())\n",
    "X_train['MonthlyIncome'].median()"
   ]
  },
  {
   "cell_type": "code",
   "execution_count": 26,
   "metadata": {},
   "outputs": [],
   "source": [
    "Med_HR = 2742\n",
    "Med_Sales = 5405\n",
    "Med_RnD = 3760\n",
    "Med_whole = 4304"
   ]
  },
  {
   "cell_type": "code",
   "execution_count": 27,
   "metadata": {},
   "outputs": [
    {
     "data": {
      "text/plain": [
       "(1628, 30)"
      ]
     },
     "execution_count": 27,
     "metadata": {},
     "output_type": "execute_result"
    }
   ],
   "source": [
    "X_train.shape"
   ]
  },
  {
   "cell_type": "code",
   "execution_count": 28,
   "metadata": {},
   "outputs": [],
   "source": [
    "buckets = [0] * 1628\n",
    "\n",
    "X_train['CR'] = buckets\n",
    "\n",
    "X_train['CR_all'] = buckets\n"
   ]
  },
  {
   "cell_type": "code",
   "execution_count": 29,
   "metadata": {},
   "outputs": [
    {
     "data": {
      "text/html": [
       "<div>\n",
       "<style scoped>\n",
       "    .dataframe tbody tr th:only-of-type {\n",
       "        vertical-align: middle;\n",
       "    }\n",
       "\n",
       "    .dataframe tbody tr th {\n",
       "        vertical-align: top;\n",
       "    }\n",
       "\n",
       "    .dataframe thead th {\n",
       "        text-align: right;\n",
       "    }\n",
       "</style>\n",
       "<table border=\"1\" class=\"dataframe\">\n",
       "  <thead>\n",
       "    <tr style=\"text-align: right;\">\n",
       "      <th></th>\n",
       "      <th>Age</th>\n",
       "      <th>Attrition</th>\n",
       "      <th>BusinessTravel</th>\n",
       "      <th>Department</th>\n",
       "      <th>DistanceFromHome</th>\n",
       "      <th>Education</th>\n",
       "      <th>EducationField</th>\n",
       "      <th>EnvironmentSatisfaction</th>\n",
       "      <th>Gender</th>\n",
       "      <th>JobInvolvement</th>\n",
       "      <th>...</th>\n",
       "      <th>YearsInCurrentRole</th>\n",
       "      <th>YearsSinceLastPromotion</th>\n",
       "      <th>YearsWithCurrManager</th>\n",
       "      <th>CommunicationSkill</th>\n",
       "      <th>Behaviour</th>\n",
       "      <th>tenure</th>\n",
       "      <th>No_Change_1</th>\n",
       "      <th>No_Change_2</th>\n",
       "      <th>CR</th>\n",
       "      <th>CR_all</th>\n",
       "    </tr>\n",
       "  </thead>\n",
       "  <tbody>\n",
       "    <tr>\n",
       "      <th>0</th>\n",
       "      <td>30</td>\n",
       "      <td>0</td>\n",
       "      <td>Non-Travel</td>\n",
       "      <td>Research &amp; Development</td>\n",
       "      <td>2</td>\n",
       "      <td>3</td>\n",
       "      <td>Medical</td>\n",
       "      <td>3</td>\n",
       "      <td>Female</td>\n",
       "      <td>3</td>\n",
       "      <td>...</td>\n",
       "      <td>7</td>\n",
       "      <td>6</td>\n",
       "      <td>7</td>\n",
       "      <td>4</td>\n",
       "      <td>1</td>\n",
       "      <td>12.00</td>\n",
       "      <td>1</td>\n",
       "      <td>6</td>\n",
       "      <td>0.681915</td>\n",
       "      <td>0.595725</td>\n",
       "    </tr>\n",
       "    <tr>\n",
       "      <th>1</th>\n",
       "      <td>36</td>\n",
       "      <td>0</td>\n",
       "      <td>Travel_Rarely</td>\n",
       "      <td>Research &amp; Development</td>\n",
       "      <td>12</td>\n",
       "      <td>4</td>\n",
       "      <td>Life Sciences</td>\n",
       "      <td>3</td>\n",
       "      <td>Female</td>\n",
       "      <td>3</td>\n",
       "      <td>...</td>\n",
       "      <td>2</td>\n",
       "      <td>1</td>\n",
       "      <td>1</td>\n",
       "      <td>2</td>\n",
       "      <td>1</td>\n",
       "      <td>0.70</td>\n",
       "      <td>1</td>\n",
       "      <td>6</td>\n",
       "      <td>1.240160</td>\n",
       "      <td>1.083411</td>\n",
       "    </tr>\n",
       "    <tr>\n",
       "      <th>2</th>\n",
       "      <td>55</td>\n",
       "      <td>1</td>\n",
       "      <td>Travel_Rarely</td>\n",
       "      <td>Sales</td>\n",
       "      <td>2</td>\n",
       "      <td>1</td>\n",
       "      <td>Medical</td>\n",
       "      <td>3</td>\n",
       "      <td>Male</td>\n",
       "      <td>3</td>\n",
       "      <td>...</td>\n",
       "      <td>7</td>\n",
       "      <td>7</td>\n",
       "      <td>3</td>\n",
       "      <td>5</td>\n",
       "      <td>1</td>\n",
       "      <td>2.40</td>\n",
       "      <td>0</td>\n",
       "      <td>5</td>\n",
       "      <td>0.954672</td>\n",
       "      <td>1.198885</td>\n",
       "    </tr>\n",
       "    <tr>\n",
       "      <th>3</th>\n",
       "      <td>39</td>\n",
       "      <td>0</td>\n",
       "      <td>Travel_Rarely</td>\n",
       "      <td>Research &amp; Development</td>\n",
       "      <td>24</td>\n",
       "      <td>1</td>\n",
       "      <td>Life Sciences</td>\n",
       "      <td>1</td>\n",
       "      <td>Male</td>\n",
       "      <td>3</td>\n",
       "      <td>...</td>\n",
       "      <td>7</td>\n",
       "      <td>1</td>\n",
       "      <td>7</td>\n",
       "      <td>4</td>\n",
       "      <td>1</td>\n",
       "      <td>2.25</td>\n",
       "      <td>6</td>\n",
       "      <td>17</td>\n",
       "      <td>1.092553</td>\n",
       "      <td>0.954461</td>\n",
       "    </tr>\n",
       "    <tr>\n",
       "      <th>4</th>\n",
       "      <td>37</td>\n",
       "      <td>0</td>\n",
       "      <td>Travel_Rarely</td>\n",
       "      <td>Research &amp; Development</td>\n",
       "      <td>3</td>\n",
       "      <td>3</td>\n",
       "      <td>Other</td>\n",
       "      <td>3</td>\n",
       "      <td>Male</td>\n",
       "      <td>3</td>\n",
       "      <td>...</td>\n",
       "      <td>7</td>\n",
       "      <td>7</td>\n",
       "      <td>8</td>\n",
       "      <td>1</td>\n",
       "      <td>1</td>\n",
       "      <td>5.00</td>\n",
       "      <td>0</td>\n",
       "      <td>3</td>\n",
       "      <td>2.509043</td>\n",
       "      <td>2.191914</td>\n",
       "    </tr>\n",
       "  </tbody>\n",
       "</table>\n",
       "<p>5 rows × 32 columns</p>\n",
       "</div>"
      ],
      "text/plain": [
       "   Age  Attrition BusinessTravel              Department  DistanceFromHome  \\\n",
       "0   30          0     Non-Travel  Research & Development                 2   \n",
       "1   36          0  Travel_Rarely  Research & Development                12   \n",
       "2   55          1  Travel_Rarely                   Sales                 2   \n",
       "3   39          0  Travel_Rarely  Research & Development                24   \n",
       "4   37          0  Travel_Rarely  Research & Development                 3   \n",
       "\n",
       "   Education EducationField  EnvironmentSatisfaction  Gender  JobInvolvement  \\\n",
       "0          3        Medical                        3  Female               3   \n",
       "1          4  Life Sciences                        3  Female               3   \n",
       "2          1        Medical                        3    Male               3   \n",
       "3          1  Life Sciences                        1    Male               3   \n",
       "4          3          Other                        3    Male               3   \n",
       "\n",
       "   ... YearsInCurrentRole  YearsSinceLastPromotion YearsWithCurrManager  \\\n",
       "0  ...                  7                        6                    7   \n",
       "1  ...                  2                        1                    1   \n",
       "2  ...                  7                        7                    3   \n",
       "3  ...                  7                        1                    7   \n",
       "4  ...                  7                        7                    8   \n",
       "\n",
       "   CommunicationSkill  Behaviour tenure  No_Change_1  No_Change_2        CR  \\\n",
       "0                   4          1  12.00            1            6  0.681915   \n",
       "1                   2          1   0.70            1            6  1.240160   \n",
       "2                   5          1   2.40            0            5  0.954672   \n",
       "3                   4          1   2.25            6           17  1.092553   \n",
       "4                   1          1   5.00            0            3  2.509043   \n",
       "\n",
       "     CR_all  \n",
       "0  0.595725  \n",
       "1  1.083411  \n",
       "2  1.198885  \n",
       "3  0.954461  \n",
       "4  2.191914  \n",
       "\n",
       "[5 rows x 32 columns]"
      ]
     },
     "execution_count": 29,
     "metadata": {},
     "output_type": "execute_result"
    }
   ],
   "source": [
    "#Logic :\n",
    "#if (X_train['Department'] == 'Sales' ) :\n",
    "#    X_train['CR_dept']  = TrainSales['MonthlyIncome']/Med_Sales\n",
    "    \n",
    "X_train.loc[X_train['Department'] == 'Sales', 'CR'] = X_train['MonthlyIncome']/Med_Sales\n",
    "X_train.loc[X_train['Department'] == 'Research & Development', 'CR'] = X_train['MonthlyIncome']/Med_RnD\n",
    "X_train.loc[X_train['Department'] == 'Human Resources', 'CR'] = X_train['MonthlyIncome']/Med_HR\n",
    "X_train['CR_all']= X_train['MonthlyIncome']/Med_whole\n",
    "\n",
    "\n",
    "\n",
    "X_train.head()"
   ]
  },
  {
   "cell_type": "code",
   "execution_count": 30,
   "metadata": {},
   "outputs": [],
   "source": [
    "X_train['Time_in_each_comp'] = (X_train['Age'] - 20) / ((X_train)['NumCompaniesWorked'] + 1)\n",
    "X_train['JobSatisf_mean'] = (X_train['JobSatisfaction'] + X_train['JobInvolvement']) / 2\n",
    "X_train['Income_Distance'] = X_train['MonthlyIncome'] / X_train['DistanceFromHome']\n",
    "X_train['Stability'] = X_train['YearsInCurrentRole'] / X_train['YearsAtCompany']\n",
    "X_train['Stability'].fillna((X_train['Stability'].mean()), inplace=True)\n",
    "X_train['Income_YearsComp'] = X_train['MonthlyIncome'] / X_train['YearsAtCompany']\n",
    "X_train['Income_YearsComp'] = X_train['Income_YearsComp'].replace(np.Inf, 0)\n",
    "X_train['Fidelity'] = (X_train['NumCompaniesWorked']) / X_train['TotalWorkingYears']\n",
    "X_train['Fidelity'] = X_train['Fidelity'].replace(np.Inf, 0)\n"
   ]
  },
  {
   "cell_type": "code",
   "execution_count": 31,
   "metadata": {},
   "outputs": [
    {
     "data": {
      "text/plain": [
       "Age                          int64\n",
       "Attrition                    int64\n",
       "BusinessTravel              object\n",
       "Department                  object\n",
       "DistanceFromHome             int64\n",
       "Education                    int64\n",
       "EducationField              object\n",
       "EnvironmentSatisfaction      int64\n",
       "Gender                      object\n",
       "JobInvolvement               int64\n",
       "JobRole                     object\n",
       "JobSatisfaction              int64\n",
       "MaritalStatus               object\n",
       "MonthlyIncome                int64\n",
       "NumCompaniesWorked           int64\n",
       "OverTime                    object\n",
       "PercentSalaryHike            int64\n",
       "PerformanceRating            int64\n",
       "StockOptionLevel             int64\n",
       "TotalWorkingYears            int64\n",
       "TrainingTimesLastYear        int64\n",
       "YearsAtCompany               int64\n",
       "YearsInCurrentRole           int64\n",
       "YearsSinceLastPromotion      int64\n",
       "YearsWithCurrManager         int64\n",
       "CommunicationSkill           int64\n",
       "Behaviour                    int64\n",
       "tenure                     float64\n",
       "No_Change_1                  int64\n",
       "No_Change_2                  int64\n",
       "CR                         float64\n",
       "CR_all                     float64\n",
       "Time_in_each_comp          float64\n",
       "JobSatisf_mean             float64\n",
       "Income_Distance            float64\n",
       "Stability                  float64\n",
       "Income_YearsComp           float64\n",
       "Fidelity                   float64\n",
       "dtype: object"
      ]
     },
     "execution_count": 31,
     "metadata": {},
     "output_type": "execute_result"
    }
   ],
   "source": [
    "X_train.dtypes"
   ]
  },
  {
   "cell_type": "markdown",
   "metadata": {},
   "source": [
    "### 3.2 BINNING COLUMNS"
   ]
  },
  {
   "cell_type": "code",
   "execution_count": 32,
   "metadata": {},
   "outputs": [],
   "source": [
    "binners = ['Age', 'DistanceFromHome' , 'CR' , 'CR_all' ,'YearsWithCurrManager' , 'No_Change_1' , 'TotalWorkingYears' ]"
   ]
  },
  {
   "cell_type": "code",
   "execution_count": 33,
   "metadata": {},
   "outputs": [],
   "source": [
    "#This is just for visualistion!\n",
    "test_data = pd.read_csv('test.csv')"
   ]
  },
  {
   "cell_type": "code",
   "execution_count": 34,
   "metadata": {},
   "outputs": [
    {
     "name": "stdout",
     "output_type": "stream",
     "text": [
      "Department\n",
      "Human Resources           4280.5\n",
      "Research & Development    4402.5\n",
      "Sales                     5740.0\n",
      "Name: MonthlyIncome, dtype: float64\n"
     ]
    },
    {
     "data": {
      "text/plain": [
       "5038.0"
      ]
     },
     "execution_count": 34,
     "metadata": {},
     "output_type": "execute_result"
    }
   ],
   "source": [
    "#Compa_Ratio\n",
    "\n",
    "print(test_data.groupby('Department')['MonthlyIncome'].median())\n",
    "test_data['MonthlyIncome'].median()"
   ]
  },
  {
   "cell_type": "code",
   "execution_count": 35,
   "metadata": {},
   "outputs": [
    {
     "data": {
      "text/html": [
       "<div>\n",
       "<style scoped>\n",
       "    .dataframe tbody tr th:only-of-type {\n",
       "        vertical-align: middle;\n",
       "    }\n",
       "\n",
       "    .dataframe tbody tr th {\n",
       "        vertical-align: top;\n",
       "    }\n",
       "\n",
       "    .dataframe thead th {\n",
       "        text-align: right;\n",
       "    }\n",
       "</style>\n",
       "<table border=\"1\" class=\"dataframe\">\n",
       "  <thead>\n",
       "    <tr style=\"text-align: right;\">\n",
       "      <th></th>\n",
       "      <th>Age</th>\n",
       "      <th>DistanceFromHome</th>\n",
       "      <th>CR</th>\n",
       "      <th>CR_all</th>\n",
       "      <th>YearsWithCurrManager</th>\n",
       "      <th>No_Change_1</th>\n",
       "      <th>TotalWorkingYears</th>\n",
       "    </tr>\n",
       "  </thead>\n",
       "  <tbody>\n",
       "    <tr>\n",
       "      <th>count</th>\n",
       "      <td>470.000000</td>\n",
       "      <td>470.000000</td>\n",
       "      <td>470.000000</td>\n",
       "      <td>470.000000</td>\n",
       "      <td>470.000000</td>\n",
       "      <td>470.000000</td>\n",
       "      <td>470.000000</td>\n",
       "    </tr>\n",
       "    <tr>\n",
       "      <th>mean</th>\n",
       "      <td>37.010638</td>\n",
       "      <td>9.293617</td>\n",
       "      <td>1.389059</td>\n",
       "      <td>1.307041</td>\n",
       "      <td>4.261702</td>\n",
       "      <td>1.974468</td>\n",
       "      <td>11.387234</td>\n",
       "    </tr>\n",
       "    <tr>\n",
       "      <th>std</th>\n",
       "      <td>9.166425</td>\n",
       "      <td>8.084506</td>\n",
       "      <td>1.042545</td>\n",
       "      <td>0.944519</td>\n",
       "      <td>3.501693</td>\n",
       "      <td>3.221627</td>\n",
       "      <td>7.817961</td>\n",
       "    </tr>\n",
       "    <tr>\n",
       "      <th>min</th>\n",
       "      <td>18.000000</td>\n",
       "      <td>1.000000</td>\n",
       "      <td>0.190070</td>\n",
       "      <td>0.216554</td>\n",
       "      <td>0.000000</td>\n",
       "      <td>-9.000000</td>\n",
       "      <td>0.000000</td>\n",
       "    </tr>\n",
       "    <tr>\n",
       "      <th>25%</th>\n",
       "      <td>31.000000</td>\n",
       "      <td>2.000000</td>\n",
       "      <td>0.668404</td>\n",
       "      <td>0.588478</td>\n",
       "      <td>2.000000</td>\n",
       "      <td>0.000000</td>\n",
       "      <td>6.000000</td>\n",
       "    </tr>\n",
       "    <tr>\n",
       "      <th>50%</th>\n",
       "      <td>35.000000</td>\n",
       "      <td>7.000000</td>\n",
       "      <td>1.000000</td>\n",
       "      <td>1.000000</td>\n",
       "      <td>3.000000</td>\n",
       "      <td>1.500000</td>\n",
       "      <td>10.000000</td>\n",
       "    </tr>\n",
       "    <tr>\n",
       "      <th>75%</th>\n",
       "      <td>43.000000</td>\n",
       "      <td>15.000000</td>\n",
       "      <td>1.566202</td>\n",
       "      <td>1.659835</td>\n",
       "      <td>7.000000</td>\n",
       "      <td>4.000000</td>\n",
       "      <td>15.000000</td>\n",
       "    </tr>\n",
       "    <tr>\n",
       "      <th>max</th>\n",
       "      <td>60.000000</td>\n",
       "      <td>29.000000</td>\n",
       "      <td>4.606238</td>\n",
       "      <td>3.958515</td>\n",
       "      <td>17.000000</td>\n",
       "      <td>15.000000</td>\n",
       "      <td>40.000000</td>\n",
       "    </tr>\n",
       "  </tbody>\n",
       "</table>\n",
       "</div>"
      ],
      "text/plain": [
       "              Age  DistanceFromHome          CR      CR_all  \\\n",
       "count  470.000000        470.000000  470.000000  470.000000   \n",
       "mean    37.010638          9.293617    1.389059    1.307041   \n",
       "std      9.166425          8.084506    1.042545    0.944519   \n",
       "min     18.000000          1.000000    0.190070    0.216554   \n",
       "25%     31.000000          2.000000    0.668404    0.588478   \n",
       "50%     35.000000          7.000000    1.000000    1.000000   \n",
       "75%     43.000000         15.000000    1.566202    1.659835   \n",
       "max     60.000000         29.000000    4.606238    3.958515   \n",
       "\n",
       "       YearsWithCurrManager  No_Change_1  TotalWorkingYears  \n",
       "count            470.000000   470.000000         470.000000  \n",
       "mean               4.261702     1.974468          11.387234  \n",
       "std                3.501693     3.221627           7.817961  \n",
       "min                0.000000    -9.000000           0.000000  \n",
       "25%                2.000000     0.000000           6.000000  \n",
       "50%                3.000000     1.500000          10.000000  \n",
       "75%                7.000000     4.000000          15.000000  \n",
       "max               17.000000    15.000000          40.000000  "
      ]
     },
     "execution_count": 35,
     "metadata": {},
     "output_type": "execute_result"
    }
   ],
   "source": [
    "\n",
    "#TenurePerjob\n",
    "test_data['tenure'] = test_data['TotalWorkingYears'] / (test_data['NumCompaniesWorked'] + 1)\n",
    "\n",
    "#YearWithoutChange\n",
    "test_data['No_Change_1'] = test_data['YearsInCurrentRole'] - test_data['YearsSinceLastPromotion']\n",
    "\n",
    "#YearWithoutChange\n",
    "test_data['No_Change_2'] = test_data['TotalWorkingYears'] - test_data['YearsSinceLastPromotion']\n",
    "\n",
    "#CR\n",
    "Med_HR = 4280.5\n",
    "Med_RnD = 4402.5\n",
    "Med_Sales = 5740.0\n",
    "Med_whole = 5038.0\n",
    "test_data.loc[test_data['Department'] == 'Sales', 'CR'] = test_data['MonthlyIncome']/Med_Sales\n",
    "test_data.loc[test_data['Department'] == 'Research & Development', 'CR'] = test_data['MonthlyIncome']/Med_RnD\n",
    "test_data.loc[test_data['Department'] == 'Human Resources', 'CR'] = test_data['MonthlyIncome']/Med_HR\n",
    "test_data['CR_all']= test_data['MonthlyIncome']/Med_whole\n",
    "\n",
    "test_data['Time_in_each_comp'] = (test_data['Age'] - 20) / ((test_data)['NumCompaniesWorked'] + 1)\n",
    "test_data['JobSatisf_mean'] = (test_data['JobSatisfaction'] + test_data['JobInvolvement']) / 2\n",
    "test_data['Income_Distance'] = test_data['MonthlyIncome'] / test_data['DistanceFromHome']\n",
    "test_data['Stability'] = test_data['YearsInCurrentRole'] / test_data['YearsAtCompany']\n",
    "test_data['Stability'].fillna((test_data['Stability'].mean()), inplace=True)\n",
    "test_data['Income_YearsComp'] = test_data['MonthlyIncome'] / test_data['YearsAtCompany']\n",
    "test_data['Income_YearsComp'] = test_data['Income_YearsComp'].replace(np.Inf, 0)\n",
    "test_data['Fidelity'] = (test_data['NumCompaniesWorked']) / test_data['TotalWorkingYears']\n",
    "test_data['Fidelity'] = test_data['Fidelity'].replace(np.Inf, 0)\n",
    "\n",
    "\n",
    "test_data[binners].describe()"
   ]
  },
  {
   "cell_type": "code",
   "execution_count": 36,
   "metadata": {},
   "outputs": [
    {
     "data": {
      "text/html": [
       "<div>\n",
       "<style scoped>\n",
       "    .dataframe tbody tr th:only-of-type {\n",
       "        vertical-align: middle;\n",
       "    }\n",
       "\n",
       "    .dataframe tbody tr th {\n",
       "        vertical-align: top;\n",
       "    }\n",
       "\n",
       "    .dataframe thead th {\n",
       "        text-align: right;\n",
       "    }\n",
       "</style>\n",
       "<table border=\"1\" class=\"dataframe\">\n",
       "  <thead>\n",
       "    <tr style=\"text-align: right;\">\n",
       "      <th></th>\n",
       "      <th>Age</th>\n",
       "      <th>DistanceFromHome</th>\n",
       "      <th>CR</th>\n",
       "      <th>CR_all</th>\n",
       "      <th>YearsWithCurrManager</th>\n",
       "      <th>No_Change_1</th>\n",
       "      <th>TotalWorkingYears</th>\n",
       "    </tr>\n",
       "  </thead>\n",
       "  <tbody>\n",
       "    <tr>\n",
       "      <th>count</th>\n",
       "      <td>1628.000000</td>\n",
       "      <td>1628.000000</td>\n",
       "      <td>1628.000000</td>\n",
       "      <td>1628.000000</td>\n",
       "      <td>1628.000000</td>\n",
       "      <td>1628.000000</td>\n",
       "      <td>1628.000000</td>\n",
       "    </tr>\n",
       "    <tr>\n",
       "      <th>mean</th>\n",
       "      <td>35.645577</td>\n",
       "      <td>9.735258</td>\n",
       "      <td>1.383345</td>\n",
       "      <td>1.344220</td>\n",
       "      <td>3.551597</td>\n",
       "      <td>1.565725</td>\n",
       "      <td>9.949017</td>\n",
       "    </tr>\n",
       "    <tr>\n",
       "      <th>std</th>\n",
       "      <td>9.481794</td>\n",
       "      <td>8.306546</td>\n",
       "      <td>1.104400</td>\n",
       "      <td>1.008200</td>\n",
       "      <td>3.494369</td>\n",
       "      <td>3.088728</td>\n",
       "      <td>7.482936</td>\n",
       "    </tr>\n",
       "    <tr>\n",
       "      <th>min</th>\n",
       "      <td>18.000000</td>\n",
       "      <td>1.000000</td>\n",
       "      <td>0.194635</td>\n",
       "      <td>0.234433</td>\n",
       "      <td>0.000000</td>\n",
       "      <td>-10.000000</td>\n",
       "      <td>0.000000</td>\n",
       "    </tr>\n",
       "    <tr>\n",
       "      <th>25%</th>\n",
       "      <td>29.000000</td>\n",
       "      <td>2.000000</td>\n",
       "      <td>0.668883</td>\n",
       "      <td>0.609898</td>\n",
       "      <td>0.000000</td>\n",
       "      <td>0.000000</td>\n",
       "      <td>5.000000</td>\n",
       "    </tr>\n",
       "    <tr>\n",
       "      <th>50%</th>\n",
       "      <td>34.000000</td>\n",
       "      <td>8.000000</td>\n",
       "      <td>1.000000</td>\n",
       "      <td>1.000000</td>\n",
       "      <td>2.000000</td>\n",
       "      <td>1.000000</td>\n",
       "      <td>8.000000</td>\n",
       "    </tr>\n",
       "    <tr>\n",
       "      <th>75%</th>\n",
       "      <td>42.000000</td>\n",
       "      <td>15.000000</td>\n",
       "      <td>1.677983</td>\n",
       "      <td>1.655263</td>\n",
       "      <td>7.000000</td>\n",
       "      <td>3.000000</td>\n",
       "      <td>13.000000</td>\n",
       "    </tr>\n",
       "    <tr>\n",
       "      <th>max</th>\n",
       "      <td>60.000000</td>\n",
       "      <td>29.000000</td>\n",
       "      <td>7.169220</td>\n",
       "      <td>4.646608</td>\n",
       "      <td>17.000000</td>\n",
       "      <td>16.000000</td>\n",
       "      <td>38.000000</td>\n",
       "    </tr>\n",
       "  </tbody>\n",
       "</table>\n",
       "</div>"
      ],
      "text/plain": [
       "               Age  DistanceFromHome           CR       CR_all  \\\n",
       "count  1628.000000       1628.000000  1628.000000  1628.000000   \n",
       "mean     35.645577          9.735258     1.383345     1.344220   \n",
       "std       9.481794          8.306546     1.104400     1.008200   \n",
       "min      18.000000          1.000000     0.194635     0.234433   \n",
       "25%      29.000000          2.000000     0.668883     0.609898   \n",
       "50%      34.000000          8.000000     1.000000     1.000000   \n",
       "75%      42.000000         15.000000     1.677983     1.655263   \n",
       "max      60.000000         29.000000     7.169220     4.646608   \n",
       "\n",
       "       YearsWithCurrManager  No_Change_1  TotalWorkingYears  \n",
       "count           1628.000000  1628.000000        1628.000000  \n",
       "mean               3.551597     1.565725           9.949017  \n",
       "std                3.494369     3.088728           7.482936  \n",
       "min                0.000000   -10.000000           0.000000  \n",
       "25%                0.000000     0.000000           5.000000  \n",
       "50%                2.000000     1.000000           8.000000  \n",
       "75%                7.000000     3.000000          13.000000  \n",
       "max               17.000000    16.000000          38.000000  "
      ]
     },
     "execution_count": 36,
     "metadata": {},
     "output_type": "execute_result"
    }
   ],
   "source": [
    "X_train[binners].describe()"
   ]
  },
  {
   "cell_type": "markdown",
   "metadata": {},
   "source": [
    "#### BINNING\n",
    "\n",
    "- AgeGroup = 15 to 60 years with groups of 5 Years\n",
    "- DistanceGroup = 15 to 30 units with groups of 5 unis\n",
    "- CR  OverallGroup = CR less than 0.5, CR greater then 0.5\n",
    "- CR Dept. Group = CR less than 0.5, CR greater then 0.5\n",
    "- Years with Curr Manager Group = 0 to 20 years with groups of 5 Years\n",
    "- Change 1 Group = Less then 2.5, Greater than 2.5\n",
    "- TotalWorkingYearsGrp = 5 to 45 years with groups of 5 Years\n",
    "- Change 2 Group"
   ]
  },
  {
   "cell_type": "code",
   "execution_count": 37,
   "metadata": {},
   "outputs": [
    {
     "data": {
      "text/html": [
       "<div>\n",
       "<style scoped>\n",
       "    .dataframe tbody tr th:only-of-type {\n",
       "        vertical-align: middle;\n",
       "    }\n",
       "\n",
       "    .dataframe tbody tr th {\n",
       "        vertical-align: top;\n",
       "    }\n",
       "\n",
       "    .dataframe thead th {\n",
       "        text-align: right;\n",
       "    }\n",
       "</style>\n",
       "<table border=\"1\" class=\"dataframe\">\n",
       "  <thead>\n",
       "    <tr style=\"text-align: right;\">\n",
       "      <th></th>\n",
       "      <th>Age</th>\n",
       "      <th>Attrition</th>\n",
       "      <th>BusinessTravel</th>\n",
       "      <th>Department</th>\n",
       "      <th>DistanceFromHome</th>\n",
       "      <th>Education</th>\n",
       "      <th>EducationField</th>\n",
       "      <th>EnvironmentSatisfaction</th>\n",
       "      <th>Gender</th>\n",
       "      <th>JobInvolvement</th>\n",
       "      <th>...</th>\n",
       "      <th>Stability</th>\n",
       "      <th>Income_YearsComp</th>\n",
       "      <th>Fidelity</th>\n",
       "      <th>AgeGroup</th>\n",
       "      <th>DistanceGroup</th>\n",
       "      <th>CompaOverallGroup</th>\n",
       "      <th>CRGroup</th>\n",
       "      <th>YearContGroup</th>\n",
       "      <th>No_Change_1grp</th>\n",
       "      <th>TotalWorkingYearsGrp</th>\n",
       "    </tr>\n",
       "  </thead>\n",
       "  <tbody>\n",
       "    <tr>\n",
       "      <th>0</th>\n",
       "      <td>30</td>\n",
       "      <td>0</td>\n",
       "      <td>Non-Travel</td>\n",
       "      <td>Research &amp; Development</td>\n",
       "      <td>2</td>\n",
       "      <td>3</td>\n",
       "      <td>Medical</td>\n",
       "      <td>3</td>\n",
       "      <td>Female</td>\n",
       "      <td>3</td>\n",
       "      <td>...</td>\n",
       "      <td>0.636364</td>\n",
       "      <td>233.090909</td>\n",
       "      <td>0.000000</td>\n",
       "      <td>1</td>\n",
       "      <td>0</td>\n",
       "      <td>1</td>\n",
       "      <td>1</td>\n",
       "      <td>1</td>\n",
       "      <td>0</td>\n",
       "      <td>3</td>\n",
       "    </tr>\n",
       "    <tr>\n",
       "      <th>1</th>\n",
       "      <td>36</td>\n",
       "      <td>0</td>\n",
       "      <td>Travel_Rarely</td>\n",
       "      <td>Research &amp; Development</td>\n",
       "      <td>12</td>\n",
       "      <td>4</td>\n",
       "      <td>Life Sciences</td>\n",
       "      <td>3</td>\n",
       "      <td>Female</td>\n",
       "      <td>3</td>\n",
       "      <td>...</td>\n",
       "      <td>0.666667</td>\n",
       "      <td>1554.333333</td>\n",
       "      <td>1.285714</td>\n",
       "      <td>1</td>\n",
       "      <td>1</td>\n",
       "      <td>1</td>\n",
       "      <td>1</td>\n",
       "      <td>0</td>\n",
       "      <td>0</td>\n",
       "      <td>2</td>\n",
       "    </tr>\n",
       "    <tr>\n",
       "      <th>2</th>\n",
       "      <td>55</td>\n",
       "      <td>1</td>\n",
       "      <td>Travel_Rarely</td>\n",
       "      <td>Sales</td>\n",
       "      <td>2</td>\n",
       "      <td>1</td>\n",
       "      <td>Medical</td>\n",
       "      <td>3</td>\n",
       "      <td>Male</td>\n",
       "      <td>3</td>\n",
       "      <td>...</td>\n",
       "      <td>0.777778</td>\n",
       "      <td>573.333333</td>\n",
       "      <td>0.333333</td>\n",
       "      <td>3</td>\n",
       "      <td>0</td>\n",
       "      <td>1</td>\n",
       "      <td>1</td>\n",
       "      <td>0</td>\n",
       "      <td>0</td>\n",
       "      <td>3</td>\n",
       "    </tr>\n",
       "    <tr>\n",
       "      <th>3</th>\n",
       "      <td>39</td>\n",
       "      <td>0</td>\n",
       "      <td>Travel_Rarely</td>\n",
       "      <td>Research &amp; Development</td>\n",
       "      <td>24</td>\n",
       "      <td>1</td>\n",
       "      <td>Life Sciences</td>\n",
       "      <td>1</td>\n",
       "      <td>Male</td>\n",
       "      <td>3</td>\n",
       "      <td>...</td>\n",
       "      <td>1.000000</td>\n",
       "      <td>586.857143</td>\n",
       "      <td>0.388889</td>\n",
       "      <td>2</td>\n",
       "      <td>3</td>\n",
       "      <td>1</td>\n",
       "      <td>1</td>\n",
       "      <td>1</td>\n",
       "      <td>1</td>\n",
       "      <td>4</td>\n",
       "    </tr>\n",
       "    <tr>\n",
       "      <th>4</th>\n",
       "      <td>37</td>\n",
       "      <td>0</td>\n",
       "      <td>Travel_Rarely</td>\n",
       "      <td>Research &amp; Development</td>\n",
       "      <td>3</td>\n",
       "      <td>3</td>\n",
       "      <td>Other</td>\n",
       "      <td>3</td>\n",
       "      <td>Male</td>\n",
       "      <td>3</td>\n",
       "      <td>...</td>\n",
       "      <td>0.700000</td>\n",
       "      <td>943.400000</td>\n",
       "      <td>0.100000</td>\n",
       "      <td>1</td>\n",
       "      <td>0</td>\n",
       "      <td>1</td>\n",
       "      <td>1</td>\n",
       "      <td>1</td>\n",
       "      <td>0</td>\n",
       "      <td>2</td>\n",
       "    </tr>\n",
       "  </tbody>\n",
       "</table>\n",
       "<p>5 rows × 45 columns</p>\n",
       "</div>"
      ],
      "text/plain": [
       "   Age  Attrition BusinessTravel              Department  DistanceFromHome  \\\n",
       "0   30          0     Non-Travel  Research & Development                 2   \n",
       "1   36          0  Travel_Rarely  Research & Development                12   \n",
       "2   55          1  Travel_Rarely                   Sales                 2   \n",
       "3   39          0  Travel_Rarely  Research & Development                24   \n",
       "4   37          0  Travel_Rarely  Research & Development                 3   \n",
       "\n",
       "   Education EducationField  EnvironmentSatisfaction  Gender  JobInvolvement  \\\n",
       "0          3        Medical                        3  Female               3   \n",
       "1          4  Life Sciences                        3  Female               3   \n",
       "2          1        Medical                        3    Male               3   \n",
       "3          1  Life Sciences                        1    Male               3   \n",
       "4          3          Other                        3    Male               3   \n",
       "\n",
       "   ... Stability  Income_YearsComp  Fidelity  AgeGroup  DistanceGroup  \\\n",
       "0  ...  0.636364        233.090909  0.000000         1              0   \n",
       "1  ...  0.666667       1554.333333  1.285714         1              1   \n",
       "2  ...  0.777778        573.333333  0.333333         3              0   \n",
       "3  ...  1.000000        586.857143  0.388889         2              3   \n",
       "4  ...  0.700000        943.400000  0.100000         1              0   \n",
       "\n",
       "  CompaOverallGroup  CRGroup  YearContGroup  No_Change_1grp  \\\n",
       "0                 1        1              1               0   \n",
       "1                 1        1              0               0   \n",
       "2                 1        1              0               0   \n",
       "3                 1        1              1               1   \n",
       "4                 1        1              1               0   \n",
       "\n",
       "   TotalWorkingYearsGrp  \n",
       "0                     3  \n",
       "1                     2  \n",
       "2                     3  \n",
       "3                     4  \n",
       "4                     2  \n",
       "\n",
       "[5 rows x 45 columns]"
      ]
     },
     "execution_count": 37,
     "metadata": {},
     "output_type": "execute_result"
    },
    {
     "data": {
      "image/png": "[encoded data removed]",
      "text/plain": [
       "<Figure size 432x288 with 2 Axes>"
      ]
     },
     "metadata": {
      "needs_background": "light"
     },
     "output_type": "display_data"
    }
   ],
   "source": [
    "X_train['AgeGroup'] = pd.cut(X_train['Age'], bins=np.linspace(15, 60, 5), labels= False)\n",
    "X_train['DistanceGroup'] = pd.cut(X_train['DistanceFromHome'], bins=np.linspace(0, 30, 5), labels= False)\n",
    "X_train['CompaOverallGroup'] = pd.cut(X_train['CR_all'], bins= [-100, 0.5, 100], labels= False)\n",
    "X_train['CRGroup'] = pd.cut(X_train['CR'], bins= [-100, 0.5, 100], labels= False)\n",
    "X_train['YearContGroup'] = pd.cut(X_train['YearsWithCurrManager'], bins= [-1, 5, 10, 15, 20], labels= False)\n",
    "X_train['No_Change_1grp'] = pd.cut(X_train['No_Change_1'], bins= [-100, 2.5, 100], labels= False)\n",
    "X_train['TotalWorkingYearsGrp'] = pd.cut(X_train['TotalWorkingYears'], bins= [-100,0,5,10,15,20,25,30,35,40,45,50], labels= False)\n",
    "\n",
    "\n",
    "sns.heatmap(X_train.isnull(),False,False,'viridis')\n",
    "\n",
    "X_train.head()"
   ]
  },
  {
   "cell_type": "markdown",
   "metadata": {},
   "source": [
    "## 4. CORRELATION MATRIX"
   ]
  },
  {
   "cell_type": "code",
   "execution_count": 38,
   "metadata": {},
   "outputs": [],
   "source": [
    "X_train = X_train.drop (binners , axis = 1)"
   ]
  },
  {
   "cell_type": "code",
   "execution_count": 39,
   "metadata": {},
   "outputs": [
    {
     "data": {
      "image/png": "[encoded data removed]",
      "text/plain": [
       "<Figure size 432x288 with 2 Axes>"
      ]
     },
     "metadata": {
      "needs_background": "light"
     },
     "output_type": "display_data"
    }
   ],
   "source": [
    "import seaborn as sn\n",
    "import matplotlib.pyplot as plt\n",
    "X_train.corr()\n",
    "corrMatrix = X_train.corr()\n",
    "sn.heatmap(corrMatrix)\n",
    "plt.show()"
   ]
  },
  {
   "cell_type": "markdown",
   "metadata": {},
   "source": [
    "### 4.1 Find High Correlation\n",
    "\n",
    "- Between Years at Company, Years in Curr Role, Years with Curr Manager & Years Since Last Promotion - We will consider ‘Years with Curr Manager’\n",
    "\n",
    "- Between Job Level & Monthly Income - We will consider ‘Job Level’\n",
    "\n",
    "- Betweem Percent Salary Hike & Performance Ratiing - We shall consider ’Percent Salary Hike"
   ]
  },
  {
   "cell_type": "code",
   "execution_count": 40,
   "metadata": {},
   "outputs": [
    {
     "data": {
      "text/plain": [
       "Index(['Attrition', 'BusinessTravel', 'Department', 'Education',\n",
       "       'EducationField', 'EnvironmentSatisfaction', 'Gender', 'JobInvolvement',\n",
       "       'JobRole', 'JobSatisfaction', 'MaritalStatus', 'MonthlyIncome',\n",
       "       'NumCompaniesWorked', 'OverTime', 'PercentSalaryHike',\n",
       "       'PerformanceRating', 'StockOptionLevel', 'TrainingTimesLastYear',\n",
       "       'YearsAtCompany', 'YearsInCurrentRole', 'YearsSinceLastPromotion',\n",
       "       'CommunicationSkill', 'Behaviour', 'tenure', 'No_Change_2',\n",
       "       'Time_in_each_comp', 'JobSatisf_mean', 'Income_Distance', 'Stability',\n",
       "       'Income_YearsComp', 'Fidelity', 'AgeGroup', 'DistanceGroup',\n",
       "       'CompaOverallGroup', 'CRGroup', 'YearContGroup', 'No_Change_1grp',\n",
       "       'TotalWorkingYearsGrp'],\n",
       "      dtype='object')"
      ]
     },
     "execution_count": 40,
     "metadata": {},
     "output_type": "execute_result"
    }
   ],
   "source": [
    "X_train.columns"
   ]
  },
  {
   "cell_type": "markdown",
   "metadata": {},
   "source": [
    "### 4.2 Drop highly related Columns"
   ]
  },
  {
   "cell_type": "code",
   "execution_count": 41,
   "metadata": {},
   "outputs": [
    {
     "data": {
      "text/plain": [
       "(1628, 34)"
      ]
     },
     "execution_count": 41,
     "metadata": {},
     "output_type": "execute_result"
    }
   ],
   "source": [
    "X_train_copy = X_train\n",
    "X_train = X_train.drop(['YearsInCurrentRole','YearsSinceLastPromotion','YearsAtCompany' , 'PerformanceRating'], axis =1)\n",
    "X_train.shape"
   ]
  },
  {
   "cell_type": "code",
   "execution_count": 42,
   "metadata": {},
   "outputs": [],
   "source": [
    "train_corr = X_train"
   ]
  },
  {
   "cell_type": "markdown",
   "metadata": {},
   "source": [
    "### 4.3 Drop Empty Columns "
   ]
  },
  {
   "cell_type": "code",
   "execution_count": 43,
   "metadata": {},
   "outputs": [
    {
     "data": {
      "text/plain": [
       "(1628, 31)"
      ]
     },
     "execution_count": 43,
     "metadata": {},
     "output_type": "execute_result"
    }
   ],
   "source": [
    "X_train = train_corr.drop(['Attrition','Behaviour', 'tenure'], axis =1)\n",
    "y_train = train_corr['Attrition']\n",
    "X_train.shape"
   ]
  },
  {
   "cell_type": "code",
   "execution_count": 44,
   "metadata": {},
   "outputs": [
    {
     "data": {
      "text/plain": [
       "BusinessTravel              object\n",
       "Department                  object\n",
       "Education                    int64\n",
       "EducationField              object\n",
       "EnvironmentSatisfaction      int64\n",
       "Gender                      object\n",
       "JobInvolvement               int64\n",
       "JobRole                     object\n",
       "JobSatisfaction              int64\n",
       "MaritalStatus               object\n",
       "MonthlyIncome                int64\n",
       "NumCompaniesWorked           int64\n",
       "OverTime                    object\n",
       "PercentSalaryHike            int64\n",
       "StockOptionLevel             int64\n",
       "TrainingTimesLastYear        int64\n",
       "CommunicationSkill           int64\n",
       "No_Change_2                  int64\n",
       "Time_in_each_comp          float64\n",
       "JobSatisf_mean             float64\n",
       "Income_Distance            float64\n",
       "Stability                  float64\n",
       "Income_YearsComp           float64\n",
       "Fidelity                   float64\n",
       "AgeGroup                     int64\n",
       "DistanceGroup                int64\n",
       "CompaOverallGroup            int64\n",
       "CRGroup                      int64\n",
       "YearContGroup                int64\n",
       "No_Change_1grp               int64\n",
       "TotalWorkingYearsGrp         int64\n",
       "dtype: object"
      ]
     },
     "execution_count": 44,
     "metadata": {},
     "output_type": "execute_result"
    }
   ],
   "source": [
    "X_train.dtypes"
   ]
  },
  {
   "cell_type": "markdown",
   "metadata": {},
   "source": [
    "## 5. Handling Skewed Data"
   ]
  },
  {
   "cell_type": "code",
   "execution_count": 45,
   "metadata": {},
   "outputs": [
    {
     "data": {
      "text/plain": [
       "(1628, 31)"
      ]
     },
     "execution_count": 45,
     "metadata": {},
     "output_type": "execute_result"
    }
   ],
   "source": [
    "X_train_cols =X_train.columns\n",
    "X_train.shape"
   ]
  },
  {
   "cell_type": "code",
   "execution_count": 143,
   "metadata": {},
   "outputs": [],
   "source": [
    "import pandas as pd\n",
    "pd.set_option('display.max_rows', 100)\n",
    "pd.set_option('display.max_columns', 500)\n",
    "pd.set_option('display.width', 1000)"
   ]
  },
  {
   "cell_type": "code",
   "execution_count": 47,
   "metadata": {},
   "outputs": [
    {
     "data": {
      "text/html": [
       "<div>\n",
       "<style scoped>\n",
       "    .dataframe tbody tr th:only-of-type {\n",
       "        vertical-align: middle;\n",
       "    }\n",
       "\n",
       "    .dataframe tbody tr th {\n",
       "        vertical-align: top;\n",
       "    }\n",
       "\n",
       "    .dataframe thead th {\n",
       "        text-align: right;\n",
       "    }\n",
       "</style>\n",
       "<table border=\"1\" class=\"dataframe\">\n",
       "  <thead>\n",
       "    <tr style=\"text-align: right;\">\n",
       "      <th></th>\n",
       "      <th>Education</th>\n",
       "      <th>EnvironmentSatisfaction</th>\n",
       "      <th>JobInvolvement</th>\n",
       "      <th>JobSatisfaction</th>\n",
       "      <th>MonthlyIncome</th>\n",
       "      <th>NumCompaniesWorked</th>\n",
       "      <th>PercentSalaryHike</th>\n",
       "      <th>StockOptionLevel</th>\n",
       "      <th>TrainingTimesLastYear</th>\n",
       "      <th>CommunicationSkill</th>\n",
       "      <th>No_Change_2</th>\n",
       "      <th>Time_in_each_comp</th>\n",
       "      <th>JobSatisf_mean</th>\n",
       "      <th>Income_Distance</th>\n",
       "      <th>Stability</th>\n",
       "      <th>Income_YearsComp</th>\n",
       "      <th>Fidelity</th>\n",
       "      <th>AgeGroup</th>\n",
       "      <th>DistanceGroup</th>\n",
       "      <th>CompaOverallGroup</th>\n",
       "      <th>CRGroup</th>\n",
       "      <th>YearContGroup</th>\n",
       "      <th>No_Change_1grp</th>\n",
       "      <th>TotalWorkingYearsGrp</th>\n",
       "    </tr>\n",
       "  </thead>\n",
       "  <tbody>\n",
       "    <tr>\n",
       "      <th>count</th>\n",
       "      <td>1628.000000</td>\n",
       "      <td>1628.000000</td>\n",
       "      <td>1628.000000</td>\n",
       "      <td>1628.000000</td>\n",
       "      <td>1628.000000</td>\n",
       "      <td>1628.000000</td>\n",
       "      <td>1628.000000</td>\n",
       "      <td>1628.000000</td>\n",
       "      <td>1628.000000</td>\n",
       "      <td>1628.000000</td>\n",
       "      <td>1628.000000</td>\n",
       "      <td>1628.000000</td>\n",
       "      <td>1628.000000</td>\n",
       "      <td>1628.000000</td>\n",
       "      <td>1628.000000</td>\n",
       "      <td>1628.000000</td>\n",
       "      <td>1628.000000</td>\n",
       "      <td>1628.000000</td>\n",
       "      <td>1628.000000</td>\n",
       "      <td>1628.000000</td>\n",
       "      <td>1628.000000</td>\n",
       "      <td>1628.000000</td>\n",
       "      <td>1628.000000</td>\n",
       "      <td>1628.000000</td>\n",
       "    </tr>\n",
       "    <tr>\n",
       "      <th>mean</th>\n",
       "      <td>2.884521</td>\n",
       "      <td>2.646192</td>\n",
       "      <td>2.650491</td>\n",
       "      <td>2.639435</td>\n",
       "      <td>5785.524570</td>\n",
       "      <td>2.761671</td>\n",
       "      <td>15.207617</td>\n",
       "      <td>0.692260</td>\n",
       "      <td>2.752457</td>\n",
       "      <td>3.135749</td>\n",
       "      <td>7.899877</td>\n",
       "      <td>5.652035</td>\n",
       "      <td>2.644963</td>\n",
       "      <td>1649.409438</td>\n",
       "      <td>0.570940</td>\n",
       "      <td>1561.071353</td>\n",
       "      <td>0.419111</td>\n",
       "      <td>1.324939</td>\n",
       "      <td>0.877764</td>\n",
       "      <td>0.914005</td>\n",
       "      <td>0.919533</td>\n",
       "      <td>0.336609</td>\n",
       "      <td>0.285627</td>\n",
       "      <td>2.396806</td>\n",
       "    </tr>\n",
       "    <tr>\n",
       "      <th>std</th>\n",
       "      <td>1.020470</td>\n",
       "      <td>1.125283</td>\n",
       "      <td>0.736330</td>\n",
       "      <td>1.096272</td>\n",
       "      <td>4339.293147</td>\n",
       "      <td>2.549995</td>\n",
       "      <td>3.686703</td>\n",
       "      <td>0.864808</td>\n",
       "      <td>1.288033</td>\n",
       "      <td>1.408770</td>\n",
       "      <td>6.874173</td>\n",
       "      <td>4.861544</td>\n",
       "      <td>0.658633</td>\n",
       "      <td>2579.441230</td>\n",
       "      <td>0.340795</td>\n",
       "      <td>2027.083746</td>\n",
       "      <td>0.465011</td>\n",
       "      <td>0.901787</td>\n",
       "      <td>1.049680</td>\n",
       "      <td>0.280443</td>\n",
       "      <td>0.272098</td>\n",
       "      <td>0.560719</td>\n",
       "      <td>0.451851</td>\n",
       "      <td>1.478314</td>\n",
       "    </tr>\n",
       "    <tr>\n",
       "      <th>min</th>\n",
       "      <td>1.000000</td>\n",
       "      <td>1.000000</td>\n",
       "      <td>1.000000</td>\n",
       "      <td>1.000000</td>\n",
       "      <td>1009.000000</td>\n",
       "      <td>0.000000</td>\n",
       "      <td>11.000000</td>\n",
       "      <td>0.000000</td>\n",
       "      <td>0.000000</td>\n",
       "      <td>1.000000</td>\n",
       "      <td>0.000000</td>\n",
       "      <td>-1.000000</td>\n",
       "      <td>1.000000</td>\n",
       "      <td>46.583333</td>\n",
       "      <td>0.000000</td>\n",
       "      <td>0.000000</td>\n",
       "      <td>0.000000</td>\n",
       "      <td>0.000000</td>\n",
       "      <td>0.000000</td>\n",
       "      <td>0.000000</td>\n",
       "      <td>0.000000</td>\n",
       "      <td>0.000000</td>\n",
       "      <td>0.000000</td>\n",
       "      <td>0.000000</td>\n",
       "    </tr>\n",
       "    <tr>\n",
       "      <th>25%</th>\n",
       "      <td>2.000000</td>\n",
       "      <td>2.000000</td>\n",
       "      <td>2.000000</td>\n",
       "      <td>2.000000</td>\n",
       "      <td>2625.000000</td>\n",
       "      <td>1.000000</td>\n",
       "      <td>12.000000</td>\n",
       "      <td>0.000000</td>\n",
       "      <td>2.000000</td>\n",
       "      <td>2.000000</td>\n",
       "      <td>3.000000</td>\n",
       "      <td>2.500000</td>\n",
       "      <td>2.000000</td>\n",
       "      <td>291.071429</td>\n",
       "      <td>0.333333</td>\n",
       "      <td>573.333333</td>\n",
       "      <td>0.100000</td>\n",
       "      <td>1.000000</td>\n",
       "      <td>0.000000</td>\n",
       "      <td>1.000000</td>\n",
       "      <td>1.000000</td>\n",
       "      <td>0.000000</td>\n",
       "      <td>0.000000</td>\n",
       "      <td>1.000000</td>\n",
       "    </tr>\n",
       "    <tr>\n",
       "      <th>50%</th>\n",
       "      <td>3.000000</td>\n",
       "      <td>3.000000</td>\n",
       "      <td>3.000000</td>\n",
       "      <td>3.000000</td>\n",
       "      <td>4304.000000</td>\n",
       "      <td>2.000000</td>\n",
       "      <td>14.000000</td>\n",
       "      <td>0.000000</td>\n",
       "      <td>3.000000</td>\n",
       "      <td>3.000000</td>\n",
       "      <td>6.000000</td>\n",
       "      <td>4.500000</td>\n",
       "      <td>2.500000</td>\n",
       "      <td>665.750000</td>\n",
       "      <td>0.666667</td>\n",
       "      <td>978.071429</td>\n",
       "      <td>0.250000</td>\n",
       "      <td>1.000000</td>\n",
       "      <td>1.000000</td>\n",
       "      <td>1.000000</td>\n",
       "      <td>1.000000</td>\n",
       "      <td>0.000000</td>\n",
       "      <td>0.000000</td>\n",
       "      <td>2.000000</td>\n",
       "    </tr>\n",
       "    <tr>\n",
       "      <th>75%</th>\n",
       "      <td>4.000000</td>\n",
       "      <td>4.000000</td>\n",
       "      <td>3.000000</td>\n",
       "      <td>4.000000</td>\n",
       "      <td>7124.250000</td>\n",
       "      <td>4.000000</td>\n",
       "      <td>18.000000</td>\n",
       "      <td>1.000000</td>\n",
       "      <td>3.000000</td>\n",
       "      <td>4.000000</td>\n",
       "      <td>10.000000</td>\n",
       "      <td>7.500000</td>\n",
       "      <td>3.000000</td>\n",
       "      <td>1742.500000</td>\n",
       "      <td>0.833333</td>\n",
       "      <td>1917.968750</td>\n",
       "      <td>0.587500</td>\n",
       "      <td>2.000000</td>\n",
       "      <td>1.000000</td>\n",
       "      <td>1.000000</td>\n",
       "      <td>1.000000</td>\n",
       "      <td>1.000000</td>\n",
       "      <td>1.000000</td>\n",
       "      <td>3.000000</td>\n",
       "    </tr>\n",
       "    <tr>\n",
       "      <th>max</th>\n",
       "      <td>5.000000</td>\n",
       "      <td>4.000000</td>\n",
       "      <td>4.000000</td>\n",
       "      <td>4.000000</td>\n",
       "      <td>19999.000000</td>\n",
       "      <td>9.000000</td>\n",
       "      <td>25.000000</td>\n",
       "      <td>3.000000</td>\n",
       "      <td>6.000000</td>\n",
       "      <td>5.000000</td>\n",
       "      <td>37.000000</td>\n",
       "      <td>40.000000</td>\n",
       "      <td>4.000000</td>\n",
       "      <td>19999.000000</td>\n",
       "      <td>1.000000</td>\n",
       "      <td>19613.000000</td>\n",
       "      <td>3.000000</td>\n",
       "      <td>3.000000</td>\n",
       "      <td>3.000000</td>\n",
       "      <td>1.000000</td>\n",
       "      <td>1.000000</td>\n",
       "      <td>3.000000</td>\n",
       "      <td>1.000000</td>\n",
       "      <td>8.000000</td>\n",
       "    </tr>\n",
       "  </tbody>\n",
       "</table>\n",
       "</div>"
      ],
      "text/plain": [
       "         Education  EnvironmentSatisfaction  JobInvolvement  JobSatisfaction  MonthlyIncome  NumCompaniesWorked  PercentSalaryHike  StockOptionLevel  TrainingTimesLastYear  CommunicationSkill  No_Change_2  Time_in_each_comp  JobSatisf_mean  Income_Distance    Stability  Income_YearsComp     Fidelity     AgeGroup  DistanceGroup  CompaOverallGroup      CRGroup  YearContGroup  No_Change_1grp  TotalWorkingYearsGrp\n",
       "count  1628.000000              1628.000000     1628.000000      1628.000000    1628.000000         1628.000000        1628.000000       1628.000000            1628.000000         1628.000000  1628.000000        1628.000000     1628.000000      1628.000000  1628.000000       1628.000000  1628.000000  1628.000000    1628.000000        1628.000000  1628.000000    1628.000000     1628.000000           1628.000000\n",
       "mean      2.884521                 2.646192        2.650491         2.639435    5785.524570            2.761671          15.207617          0.692260               2.752457            3.135749     7.899877           5.652035        2.644963      1649.409438     0.570940       1561.071353     0.419111     1.324939       0.877764           0.914005     0.919533       0.336609        0.285627              2.396806\n",
       "std       1.020470                 1.125283        0.736330         1.096272    4339.293147            2.549995           3.686703          0.864808               1.288033            1.408770     6.874173           4.861544        0.658633      2579.441230     0.340795       2027.083746     0.465011     0.901787       1.049680           0.280443     0.272098       0.560719        0.451851              1.478314\n",
       "min       1.000000                 1.000000        1.000000         1.000000    1009.000000            0.000000          11.000000          0.000000               0.000000            1.000000     0.000000          -1.000000        1.000000        46.583333     0.000000          0.000000     0.000000     0.000000       0.000000           0.000000     0.000000       0.000000        0.000000              0.000000\n",
       "25%       2.000000                 2.000000        2.000000         2.000000    2625.000000            1.000000          12.000000          0.000000               2.000000            2.000000     3.000000           2.500000        2.000000       291.071429     0.333333        573.333333     0.100000     1.000000       0.000000           1.000000     1.000000       0.000000        0.000000              1.000000\n",
       "50%       3.000000                 3.000000        3.000000         3.000000    4304.000000            2.000000          14.000000          0.000000               3.000000            3.000000     6.000000           4.500000        2.500000       665.750000     0.666667        978.071429     0.250000     1.000000       1.000000           1.000000     1.000000       0.000000        0.000000              2.000000\n",
       "75%       4.000000                 4.000000        3.000000         4.000000    7124.250000            4.000000          18.000000          1.000000               3.000000            4.000000    10.000000           7.500000        3.000000      1742.500000     0.833333       1917.968750     0.587500     2.000000       1.000000           1.000000     1.000000       1.000000        1.000000              3.000000\n",
       "max       5.000000                 4.000000        4.000000         4.000000   19999.000000            9.000000          25.000000          3.000000               6.000000            5.000000    37.000000          40.000000        4.000000     19999.000000     1.000000      19613.000000     3.000000     3.000000       3.000000           1.000000     1.000000       3.000000        1.000000              8.000000"
      ]
     },
     "execution_count": 47,
     "metadata": {},
     "output_type": "execute_result"
    }
   ],
   "source": [
    "X_train.describe()"
   ]
  },
  {
   "cell_type": "markdown",
   "metadata": {},
   "source": [
    "### 5.1 Skewness involved in\n",
    "- MonthlyIncome\n",
    "- No_Change_2\n",
    "- Time_in_each_comp\n",
    "- Income_YearsComp\n",
    "- Fidelity\n",
    "- TotalWorkingYearsGrp"
   ]
  },
  {
   "cell_type": "code",
   "execution_count": 48,
   "metadata": {},
   "outputs": [
    {
     "data": {
      "image/png": "[encoded data removed]",
      "text/plain": [
       "<Figure size 432x288 with 1 Axes>"
      ]
     },
     "metadata": {
      "needs_background": "light"
     },
     "output_type": "display_data"
    },
    {
     "data": {
      "image/png": "[encoded data removed]",
      "text/plain": [
       "<Figure size 432x288 with 1 Axes>"
      ]
     },
     "metadata": {
      "needs_background": "light"
     },
     "output_type": "display_data"
    },
    {
     "data": {
      "image/png": "[encoded data removed]",
      "text/plain": [
       "<Figure size 432x288 with 1 Axes>"
      ]
     },
     "metadata": {
      "needs_background": "light"
     },
     "output_type": "display_data"
    },
    {
     "data": {
      "image/png": "[encoded data removed]",
      "text/plain": [
       "<Figure size 432x288 with 1 Axes>"
      ]
     },
     "metadata": {
      "needs_background": "light"
     },
     "output_type": "display_data"
    },
    {
     "data": {
      "image/png": "[encoded data removed]",
      "text/plain": [
       "<Figure size 432x288 with 1 Axes>"
      ]
     },
     "metadata": {
      "needs_background": "light"
     },
     "output_type": "display_data"
    }
   ],
   "source": [
    "plt.hist(X_train['MonthlyIncome']);\n",
    "plt.show()\n",
    "plt.hist(X_train['No_Change_2']);\n",
    "plt.show()\n",
    "plt.hist(X_train['Time_in_each_comp']);\n",
    "plt.show()\n",
    "#plt.hist(X_train['Income_YearsComp']);\n",
    "#plt.show()\n",
    "plt.hist(X_train['Fidelity']);\n",
    "plt.show()\n",
    "plt.hist(X_train['TotalWorkingYearsGrp']);\n",
    "plt.show()"
   ]
  },
  {
   "cell_type": "markdown",
   "metadata": {},
   "source": [
    "### 5.2 Apply Squareroot Transform to fix skewness"
   ]
  },
  {
   "cell_type": "code",
   "execution_count": 49,
   "metadata": {},
   "outputs": [
    {
     "data": {
      "image/png": "[encoded data removed]",
      "text/plain": [
       "<Figure size 432x288 with 1 Axes>"
      ]
     },
     "metadata": {
      "needs_background": "light"
     },
     "output_type": "display_data"
    },
    {
     "data": {
      "image/png": "[encoded data removed]",
      "text/plain": [
       "<Figure size 432x288 with 1 Axes>"
      ]
     },
     "metadata": {
      "needs_background": "light"
     },
     "output_type": "display_data"
    },
    {
     "data": {
      "image/png": "[encoded data removed]",
      "text/plain": [
       "<Figure size 432x288 with 1 Axes>"
      ]
     },
     "metadata": {
      "needs_background": "light"
     },
     "output_type": "display_data"
    },
    {
     "data": {
      "image/png": "[encoded data removed]",
      "text/plain": [
       "<Figure size 432x288 with 1 Axes>"
      ]
     },
     "metadata": {
      "needs_background": "light"
     },
     "output_type": "display_data"
    }
   ],
   "source": [
    "plt.hist(np.sqrt(X_train['MonthlyIncome']));\n",
    "plt.show()\n",
    "plt.hist(np.sqrt(X_train['No_Change_2']));\n",
    "plt.show()\n",
    "#plt.hist(np.sqrt(X_train['Time_in_each_comp']));\n",
    "#plt.show()\n",
    "plt.hist(np.sqrt(X_train['Income_YearsComp']));\n",
    "plt.show()\n",
    "plt.hist(np.sqrt(X_train['Fidelity']));\n",
    "plt.show()\n"
   ]
  },
  {
   "cell_type": "code",
   "execution_count": 50,
   "metadata": {},
   "outputs": [],
   "source": [
    "X_train['MonthlyIncome'] = (np.sqrt(X_train['MonthlyIncome']))\n",
    "X_train['No_Change_2'] = (np.sqrt(X_train['No_Change_2']))\n",
    "#X_train['Time_in_each_comp'] = (np.sqrt(X_train['Time_in_each_comp']))\n",
    "X_train['Income_YearsComp'] = (np.sqrt(X_train['Income_YearsComp']))\n",
    "X_train['Fidelity'] = (np.sqrt(X_train['Fidelity']))"
   ]
  },
  {
   "cell_type": "markdown",
   "metadata": {},
   "source": [
    "## 6. Handling Categorical Data"
   ]
  },
  {
   "cell_type": "markdown",
   "metadata": {},
   "source": [
    "### 6.1 One Hot Encoding Categorical Data"
   ]
  },
  {
   "cell_type": "code",
   "execution_count": 51,
   "metadata": {},
   "outputs": [],
   "source": [
    "from sklearn.preprocessing import LabelEncoder \n",
    "from sklearn.preprocessing import OneHotEncoder\n",
    "\n",
    "onehotencoder = OneHotEncoder()"
   ]
  },
  {
   "cell_type": "code",
   "execution_count": 52,
   "metadata": {},
   "outputs": [],
   "source": [
    "from sklearn.compose import make_column_transformer\n",
    "columns_trans= make_column_transformer((onehotencoder, ['BusinessTravel','Department' ,'EducationField','Gender', 'JobRole', 'MaritalStatus', 'OverTime']), remainder = 'passthrough' )"
   ]
  },
  {
   "cell_type": "code",
   "execution_count": 53,
   "metadata": {},
   "outputs": [
    {
     "data": {
      "text/plain": [
       "(1628, 52)"
      ]
     },
     "execution_count": 53,
     "metadata": {},
     "output_type": "execute_result"
    }
   ],
   "source": [
    "X_train_pp = columns_trans.fit_transform(X_train)\n",
    "X_train_pp.shape"
   ]
  },
  {
   "cell_type": "markdown",
   "metadata": {},
   "source": [
    "## 7. Loading the Test Data"
   ]
  },
  {
   "cell_type": "code",
   "execution_count": 54,
   "metadata": {},
   "outputs": [
    {
     "data": {
      "text/plain": [
       "(470, 28)"
      ]
     },
     "execution_count": 54,
     "metadata": {},
     "output_type": "execute_result"
    }
   ],
   "source": [
    "test = pd.read_csv('test.csv')\n",
    "test.shape"
   ]
  },
  {
   "cell_type": "markdown",
   "metadata": {},
   "source": [
    "## 8. Apply Same Preprocessing steps as in Train Data to prevent Data Leakage"
   ]
  },
  {
   "cell_type": "code",
   "execution_count": 55,
   "metadata": {},
   "outputs": [],
   "source": [
    "#TenurePerjob\n",
    "test['tenure'] = test['TotalWorkingYears'] / (test['NumCompaniesWorked'] + 1)\n",
    "\n",
    "#YearWithoutChange\n",
    "test['No_Change_1'] = test['YearsInCurrentRole'] - test['YearsSinceLastPromotion']\n",
    "\n",
    "#YearWithoutChange\n",
    "test['No_Change_2'] = test['TotalWorkingYears'] - test['YearsSinceLastPromotion']"
   ]
  },
  {
   "cell_type": "code",
   "execution_count": 56,
   "metadata": {},
   "outputs": [
    {
     "name": "stdout",
     "output_type": "stream",
     "text": [
      "Department\n",
      "Human Resources           4280.5\n",
      "Research & Development    4402.5\n",
      "Sales                     5740.0\n",
      "Name: MonthlyIncome, dtype: float64\n"
     ]
    },
    {
     "data": {
      "text/plain": [
       "5038.0"
      ]
     },
     "execution_count": 56,
     "metadata": {},
     "output_type": "execute_result"
    }
   ],
   "source": [
    "#Compa_Ratio\n",
    "\n",
    "print(test.groupby('Department')['MonthlyIncome'].median())\n",
    "test['MonthlyIncome'].median()"
   ]
  },
  {
   "cell_type": "code",
   "execution_count": 57,
   "metadata": {},
   "outputs": [],
   "source": [
    "Med_HR = 4280.5\n",
    "Med_RnD = 4402.5\n",
    "Med_Sales = 5740.0\n",
    "Med_whole = 5038.0\n"
   ]
  },
  {
   "cell_type": "code",
   "execution_count": 58,
   "metadata": {},
   "outputs": [],
   "source": [
    "buckets = [0] * 470\n",
    "test['CR'] = buckets\n"
   ]
  },
  {
   "cell_type": "code",
   "execution_count": 59,
   "metadata": {},
   "outputs": [
    {
     "data": {
      "text/html": [
       "<div>\n",
       "<style scoped>\n",
       "    .dataframe tbody tr th:only-of-type {\n",
       "        vertical-align: middle;\n",
       "    }\n",
       "\n",
       "    .dataframe tbody tr th {\n",
       "        vertical-align: top;\n",
       "    }\n",
       "\n",
       "    .dataframe thead th {\n",
       "        text-align: right;\n",
       "    }\n",
       "</style>\n",
       "<table border=\"1\" class=\"dataframe\">\n",
       "  <thead>\n",
       "    <tr style=\"text-align: right;\">\n",
       "      <th></th>\n",
       "      <th>Id</th>\n",
       "      <th>Age</th>\n",
       "      <th>BusinessTravel</th>\n",
       "      <th>Department</th>\n",
       "      <th>DistanceFromHome</th>\n",
       "      <th>Education</th>\n",
       "      <th>EducationField</th>\n",
       "      <th>EmployeeNumber</th>\n",
       "      <th>EnvironmentSatisfaction</th>\n",
       "      <th>Gender</th>\n",
       "      <th>JobInvolvement</th>\n",
       "      <th>JobRole</th>\n",
       "      <th>JobSatisfaction</th>\n",
       "      <th>MaritalStatus</th>\n",
       "      <th>MonthlyIncome</th>\n",
       "      <th>NumCompaniesWorked</th>\n",
       "      <th>OverTime</th>\n",
       "      <th>PercentSalaryHike</th>\n",
       "      <th>PerformanceRating</th>\n",
       "      <th>StockOptionLevel</th>\n",
       "      <th>TotalWorkingYears</th>\n",
       "      <th>TrainingTimesLastYear</th>\n",
       "      <th>YearsAtCompany</th>\n",
       "      <th>YearsInCurrentRole</th>\n",
       "      <th>YearsSinceLastPromotion</th>\n",
       "      <th>YearsWithCurrManager</th>\n",
       "      <th>CommunicationSkill</th>\n",
       "      <th>Behaviour</th>\n",
       "      <th>tenure</th>\n",
       "      <th>No_Change_1</th>\n",
       "      <th>No_Change_2</th>\n",
       "      <th>CR</th>\n",
       "      <th>CR_all</th>\n",
       "    </tr>\n",
       "  </thead>\n",
       "  <tbody>\n",
       "    <tr>\n",
       "      <th>465</th>\n",
       "      <td>466</td>\n",
       "      <td>32</td>\n",
       "      <td>Travel_Rarely</td>\n",
       "      <td>Research &amp; Development</td>\n",
       "      <td>2</td>\n",
       "      <td>4</td>\n",
       "      <td>Life Sciences</td>\n",
       "      <td>1692</td>\n",
       "      <td>4</td>\n",
       "      <td>Male</td>\n",
       "      <td>3</td>\n",
       "      <td>Laboratory Technician</td>\n",
       "      <td>2</td>\n",
       "      <td>Single</td>\n",
       "      <td>1393</td>\n",
       "      <td>1</td>\n",
       "      <td>No</td>\n",
       "      <td>12</td>\n",
       "      <td>3</td>\n",
       "      <td>0</td>\n",
       "      <td>1</td>\n",
       "      <td>2</td>\n",
       "      <td>1</td>\n",
       "      <td>0</td>\n",
       "      <td>0</td>\n",
       "      <td>0</td>\n",
       "      <td>5</td>\n",
       "      <td>1</td>\n",
       "      <td>0.5</td>\n",
       "      <td>0</td>\n",
       "      <td>1</td>\n",
       "      <td>0.316411</td>\n",
       "      <td>0.276499</td>\n",
       "    </tr>\n",
       "    <tr>\n",
       "      <th>466</th>\n",
       "      <td>467</td>\n",
       "      <td>18</td>\n",
       "      <td>Travel_Frequently</td>\n",
       "      <td>Sales</td>\n",
       "      <td>3</td>\n",
       "      <td>2</td>\n",
       "      <td>Medical</td>\n",
       "      <td>1624</td>\n",
       "      <td>2</td>\n",
       "      <td>Female</td>\n",
       "      <td>3</td>\n",
       "      <td>Sales Representative</td>\n",
       "      <td>4</td>\n",
       "      <td>Single</td>\n",
       "      <td>1569</td>\n",
       "      <td>1</td>\n",
       "      <td>Yes</td>\n",
       "      <td>12</td>\n",
       "      <td>3</td>\n",
       "      <td>0</td>\n",
       "      <td>0</td>\n",
       "      <td>2</td>\n",
       "      <td>0</td>\n",
       "      <td>0</td>\n",
       "      <td>0</td>\n",
       "      <td>0</td>\n",
       "      <td>2</td>\n",
       "      <td>1</td>\n",
       "      <td>0.0</td>\n",
       "      <td>0</td>\n",
       "      <td>0</td>\n",
       "      <td>0.273345</td>\n",
       "      <td>0.311433</td>\n",
       "    </tr>\n",
       "    <tr>\n",
       "      <th>467</th>\n",
       "      <td>468</td>\n",
       "      <td>24</td>\n",
       "      <td>Travel_Rarely</td>\n",
       "      <td>Research &amp; Development</td>\n",
       "      <td>23</td>\n",
       "      <td>3</td>\n",
       "      <td>Medical</td>\n",
       "      <td>639</td>\n",
       "      <td>2</td>\n",
       "      <td>Male</td>\n",
       "      <td>4</td>\n",
       "      <td>Research Scientist</td>\n",
       "      <td>4</td>\n",
       "      <td>Married</td>\n",
       "      <td>2725</td>\n",
       "      <td>1</td>\n",
       "      <td>Yes</td>\n",
       "      <td>11</td>\n",
       "      <td>3</td>\n",
       "      <td>2</td>\n",
       "      <td>6</td>\n",
       "      <td>3</td>\n",
       "      <td>6</td>\n",
       "      <td>5</td>\n",
       "      <td>1</td>\n",
       "      <td>4</td>\n",
       "      <td>1</td>\n",
       "      <td>1</td>\n",
       "      <td>3.0</td>\n",
       "      <td>4</td>\n",
       "      <td>5</td>\n",
       "      <td>0.618966</td>\n",
       "      <td>0.540889</td>\n",
       "    </tr>\n",
       "    <tr>\n",
       "      <th>468</th>\n",
       "      <td>469</td>\n",
       "      <td>31</td>\n",
       "      <td>Travel_Rarely</td>\n",
       "      <td>Research &amp; Development</td>\n",
       "      <td>23</td>\n",
       "      <td>3</td>\n",
       "      <td>Medical</td>\n",
       "      <td>367</td>\n",
       "      <td>2</td>\n",
       "      <td>Male</td>\n",
       "      <td>2</td>\n",
       "      <td>Healthcare Representative</td>\n",
       "      <td>4</td>\n",
       "      <td>Married</td>\n",
       "      <td>5582</td>\n",
       "      <td>0</td>\n",
       "      <td>No</td>\n",
       "      <td>21</td>\n",
       "      <td>4</td>\n",
       "      <td>1</td>\n",
       "      <td>10</td>\n",
       "      <td>2</td>\n",
       "      <td>9</td>\n",
       "      <td>0</td>\n",
       "      <td>7</td>\n",
       "      <td>8</td>\n",
       "      <td>3</td>\n",
       "      <td>1</td>\n",
       "      <td>10.0</td>\n",
       "      <td>-7</td>\n",
       "      <td>3</td>\n",
       "      <td>1.267916</td>\n",
       "      <td>1.107979</td>\n",
       "    </tr>\n",
       "    <tr>\n",
       "      <th>469</th>\n",
       "      <td>470</td>\n",
       "      <td>36</td>\n",
       "      <td>Travel_Rarely</td>\n",
       "      <td>Research &amp; Development</td>\n",
       "      <td>5</td>\n",
       "      <td>4</td>\n",
       "      <td>Life Sciences</td>\n",
       "      <td>1651</td>\n",
       "      <td>2</td>\n",
       "      <td>Female</td>\n",
       "      <td>3</td>\n",
       "      <td>Healthcare Representative</td>\n",
       "      <td>1</td>\n",
       "      <td>Married</td>\n",
       "      <td>8008</td>\n",
       "      <td>4</td>\n",
       "      <td>No</td>\n",
       "      <td>12</td>\n",
       "      <td>3</td>\n",
       "      <td>2</td>\n",
       "      <td>9</td>\n",
       "      <td>6</td>\n",
       "      <td>3</td>\n",
       "      <td>2</td>\n",
       "      <td>0</td>\n",
       "      <td>2</td>\n",
       "      <td>5</td>\n",
       "      <td>1</td>\n",
       "      <td>1.8</td>\n",
       "      <td>2</td>\n",
       "      <td>9</td>\n",
       "      <td>1.818966</td>\n",
       "      <td>1.589520</td>\n",
       "    </tr>\n",
       "  </tbody>\n",
       "</table>\n",
       "</div>"
      ],
      "text/plain": [
       "      Id  Age     BusinessTravel              Department  DistanceFromHome  Education EducationField  EmployeeNumber  EnvironmentSatisfaction  Gender  JobInvolvement                    JobRole  JobSatisfaction MaritalStatus  MonthlyIncome  NumCompaniesWorked OverTime  PercentSalaryHike  PerformanceRating  StockOptionLevel  TotalWorkingYears  TrainingTimesLastYear  YearsAtCompany  YearsInCurrentRole  YearsSinceLastPromotion  YearsWithCurrManager  CommunicationSkill  Behaviour  tenure  No_Change_1  No_Change_2        CR    CR_all\n",
       "465  466   32      Travel_Rarely  Research & Development                 2          4  Life Sciences            1692                        4    Male               3      Laboratory Technician                2        Single           1393                   1       No                 12                  3                 0                  1                      2               1                   0                        0                     0                   5          1     0.5            0            1  0.316411  0.276499\n",
       "466  467   18  Travel_Frequently                   Sales                 3          2        Medical            1624                        2  Female               3       Sales Representative                4        Single           1569                   1      Yes                 12                  3                 0                  0                      2               0                   0                        0                     0                   2          1     0.0            0            0  0.273345  0.311433\n",
       "467  468   24      Travel_Rarely  Research & Development                23          3        Medical             639                        2    Male               4         Research Scientist                4       Married           2725                   1      Yes                 11                  3                 2                  6                      3               6                   5                        1                     4                   1          1     3.0            4            5  0.618966  0.540889\n",
       "468  469   31      Travel_Rarely  Research & Development                23          3        Medical             367                        2    Male               2  Healthcare Representative                4       Married           5582                   0       No                 21                  4                 1                 10                      2               9                   0                        7                     8                   3          1    10.0           -7            3  1.267916  1.107979\n",
       "469  470   36      Travel_Rarely  Research & Development                 5          4  Life Sciences            1651                        2  Female               3  Healthcare Representative                1       Married           8008                   4       No                 12                  3                 2                  9                      6               3                   2                        0                     2                   5          1     1.8            2            9  1.818966  1.589520"
      ]
     },
     "execution_count": 59,
     "metadata": {},
     "output_type": "execute_result"
    }
   ],
   "source": [
    "test.loc[test['Department'] == 'Sales', 'CR'] = test['MonthlyIncome']/Med_Sales\n",
    "test.loc[test['Department'] == 'Research & Development', 'CR'] = test['MonthlyIncome']/Med_RnD\n",
    "test.loc[test['Department'] == 'Human Resources', 'CR'] = test['MonthlyIncome']/Med_HR\n",
    "test['CR_all']= test['MonthlyIncome']/Med_whole\n",
    "\n",
    "\n",
    "test.tail()"
   ]
  },
  {
   "cell_type": "code",
   "execution_count": 60,
   "metadata": {},
   "outputs": [
    {
     "data": {
      "text/html": [
       "<div>\n",
       "<style scoped>\n",
       "    .dataframe tbody tr th:only-of-type {\n",
       "        vertical-align: middle;\n",
       "    }\n",
       "\n",
       "    .dataframe tbody tr th {\n",
       "        vertical-align: top;\n",
       "    }\n",
       "\n",
       "    .dataframe thead th {\n",
       "        text-align: right;\n",
       "    }\n",
       "</style>\n",
       "<table border=\"1\" class=\"dataframe\">\n",
       "  <thead>\n",
       "    <tr style=\"text-align: right;\">\n",
       "      <th></th>\n",
       "      <th>Id</th>\n",
       "      <th>Age</th>\n",
       "      <th>BusinessTravel</th>\n",
       "      <th>Department</th>\n",
       "      <th>DistanceFromHome</th>\n",
       "      <th>Education</th>\n",
       "      <th>EducationField</th>\n",
       "      <th>EmployeeNumber</th>\n",
       "      <th>EnvironmentSatisfaction</th>\n",
       "      <th>Gender</th>\n",
       "      <th>JobInvolvement</th>\n",
       "      <th>JobRole</th>\n",
       "      <th>JobSatisfaction</th>\n",
       "      <th>MaritalStatus</th>\n",
       "      <th>MonthlyIncome</th>\n",
       "      <th>NumCompaniesWorked</th>\n",
       "      <th>OverTime</th>\n",
       "      <th>PercentSalaryHike</th>\n",
       "      <th>PerformanceRating</th>\n",
       "      <th>StockOptionLevel</th>\n",
       "      <th>TotalWorkingYears</th>\n",
       "      <th>TrainingTimesLastYear</th>\n",
       "      <th>YearsAtCompany</th>\n",
       "      <th>YearsInCurrentRole</th>\n",
       "      <th>YearsSinceLastPromotion</th>\n",
       "      <th>YearsWithCurrManager</th>\n",
       "      <th>CommunicationSkill</th>\n",
       "      <th>Behaviour</th>\n",
       "      <th>tenure</th>\n",
       "      <th>No_Change_1</th>\n",
       "      <th>No_Change_2</th>\n",
       "      <th>CR</th>\n",
       "      <th>CR_all</th>\n",
       "      <th>AgeGroup</th>\n",
       "      <th>DistanceGroup</th>\n",
       "      <th>CompaOverallGroup</th>\n",
       "      <th>CRGroup</th>\n",
       "      <th>YearContGroup</th>\n",
       "      <th>No_Change_1grp</th>\n",
       "      <th>TotalWorkingYearsGrp</th>\n",
       "    </tr>\n",
       "  </thead>\n",
       "  <tbody>\n",
       "    <tr>\n",
       "      <th>0</th>\n",
       "      <td>1</td>\n",
       "      <td>28</td>\n",
       "      <td>Travel_Rarely</td>\n",
       "      <td>Research &amp; Development</td>\n",
       "      <td>9</td>\n",
       "      <td>3</td>\n",
       "      <td>Medical</td>\n",
       "      <td>377</td>\n",
       "      <td>4</td>\n",
       "      <td>Male</td>\n",
       "      <td>3</td>\n",
       "      <td>Research Scientist</td>\n",
       "      <td>4</td>\n",
       "      <td>Married</td>\n",
       "      <td>2070</td>\n",
       "      <td>1</td>\n",
       "      <td>No</td>\n",
       "      <td>23</td>\n",
       "      <td>4</td>\n",
       "      <td>1</td>\n",
       "      <td>5</td>\n",
       "      <td>3</td>\n",
       "      <td>5</td>\n",
       "      <td>2</td>\n",
       "      <td>0</td>\n",
       "      <td>4</td>\n",
       "      <td>5</td>\n",
       "      <td>1</td>\n",
       "      <td>2.5</td>\n",
       "      <td>2</td>\n",
       "      <td>5</td>\n",
       "      <td>0.470187</td>\n",
       "      <td>0.410877</td>\n",
       "      <td>1</td>\n",
       "      <td>1</td>\n",
       "      <td>0</td>\n",
       "      <td>0</td>\n",
       "      <td>0</td>\n",
       "      <td>0</td>\n",
       "      <td>1</td>\n",
       "    </tr>\n",
       "    <tr>\n",
       "      <th>1</th>\n",
       "      <td>2</td>\n",
       "      <td>31</td>\n",
       "      <td>Travel_Rarely</td>\n",
       "      <td>Sales</td>\n",
       "      <td>6</td>\n",
       "      <td>4</td>\n",
       "      <td>Medical</td>\n",
       "      <td>653</td>\n",
       "      <td>1</td>\n",
       "      <td>Male</td>\n",
       "      <td>4</td>\n",
       "      <td>Sales Executive</td>\n",
       "      <td>4</td>\n",
       "      <td>Divorced</td>\n",
       "      <td>5460</td>\n",
       "      <td>4</td>\n",
       "      <td>No</td>\n",
       "      <td>22</td>\n",
       "      <td>4</td>\n",
       "      <td>2</td>\n",
       "      <td>13</td>\n",
       "      <td>4</td>\n",
       "      <td>7</td>\n",
       "      <td>7</td>\n",
       "      <td>5</td>\n",
       "      <td>7</td>\n",
       "      <td>3</td>\n",
       "      <td>1</td>\n",
       "      <td>2.6</td>\n",
       "      <td>2</td>\n",
       "      <td>8</td>\n",
       "      <td>0.951220</td>\n",
       "      <td>1.083763</td>\n",
       "      <td>1</td>\n",
       "      <td>0</td>\n",
       "      <td>1</td>\n",
       "      <td>1</td>\n",
       "      <td>1</td>\n",
       "      <td>0</td>\n",
       "      <td>3</td>\n",
       "    </tr>\n",
       "    <tr>\n",
       "      <th>2</th>\n",
       "      <td>3</td>\n",
       "      <td>37</td>\n",
       "      <td>Travel_Rarely</td>\n",
       "      <td>Research &amp; Development</td>\n",
       "      <td>6</td>\n",
       "      <td>3</td>\n",
       "      <td>Medical</td>\n",
       "      <td>474</td>\n",
       "      <td>3</td>\n",
       "      <td>Male</td>\n",
       "      <td>4</td>\n",
       "      <td>Research Scientist</td>\n",
       "      <td>1</td>\n",
       "      <td>Divorced</td>\n",
       "      <td>5974</td>\n",
       "      <td>4</td>\n",
       "      <td>Yes</td>\n",
       "      <td>13</td>\n",
       "      <td>3</td>\n",
       "      <td>2</td>\n",
       "      <td>13</td>\n",
       "      <td>2</td>\n",
       "      <td>7</td>\n",
       "      <td>7</td>\n",
       "      <td>6</td>\n",
       "      <td>7</td>\n",
       "      <td>4</td>\n",
       "      <td>1</td>\n",
       "      <td>2.6</td>\n",
       "      <td>1</td>\n",
       "      <td>7</td>\n",
       "      <td>1.356956</td>\n",
       "      <td>1.185788</td>\n",
       "      <td>1</td>\n",
       "      <td>0</td>\n",
       "      <td>1</td>\n",
       "      <td>1</td>\n",
       "      <td>1</td>\n",
       "      <td>0</td>\n",
       "      <td>3</td>\n",
       "    </tr>\n",
       "    <tr>\n",
       "      <th>3</th>\n",
       "      <td>4</td>\n",
       "      <td>42</td>\n",
       "      <td>Travel_Rarely</td>\n",
       "      <td>Research &amp; Development</td>\n",
       "      <td>1</td>\n",
       "      <td>2</td>\n",
       "      <td>Life Sciences</td>\n",
       "      <td>827</td>\n",
       "      <td>4</td>\n",
       "      <td>Female</td>\n",
       "      <td>2</td>\n",
       "      <td>Manufacturing Director</td>\n",
       "      <td>4</td>\n",
       "      <td>Married</td>\n",
       "      <td>6062</td>\n",
       "      <td>9</td>\n",
       "      <td>Yes</td>\n",
       "      <td>13</td>\n",
       "      <td>3</td>\n",
       "      <td>1</td>\n",
       "      <td>8</td>\n",
       "      <td>4</td>\n",
       "      <td>4</td>\n",
       "      <td>3</td>\n",
       "      <td>0</td>\n",
       "      <td>2</td>\n",
       "      <td>5</td>\n",
       "      <td>1</td>\n",
       "      <td>0.8</td>\n",
       "      <td>3</td>\n",
       "      <td>8</td>\n",
       "      <td>1.376945</td>\n",
       "      <td>1.203255</td>\n",
       "      <td>2</td>\n",
       "      <td>0</td>\n",
       "      <td>1</td>\n",
       "      <td>1</td>\n",
       "      <td>0</td>\n",
       "      <td>1</td>\n",
       "      <td>2</td>\n",
       "    </tr>\n",
       "    <tr>\n",
       "      <th>4</th>\n",
       "      <td>5</td>\n",
       "      <td>45</td>\n",
       "      <td>Non-Travel</td>\n",
       "      <td>Research &amp; Development</td>\n",
       "      <td>4</td>\n",
       "      <td>2</td>\n",
       "      <td>Life Sciences</td>\n",
       "      <td>972</td>\n",
       "      <td>3</td>\n",
       "      <td>Male</td>\n",
       "      <td>3</td>\n",
       "      <td>Laboratory Technician</td>\n",
       "      <td>2</td>\n",
       "      <td>Married</td>\n",
       "      <td>4447</td>\n",
       "      <td>1</td>\n",
       "      <td>No</td>\n",
       "      <td>12</td>\n",
       "      <td>3</td>\n",
       "      <td>0</td>\n",
       "      <td>9</td>\n",
       "      <td>5</td>\n",
       "      <td>9</td>\n",
       "      <td>7</td>\n",
       "      <td>0</td>\n",
       "      <td>8</td>\n",
       "      <td>2</td>\n",
       "      <td>1</td>\n",
       "      <td>4.5</td>\n",
       "      <td>7</td>\n",
       "      <td>9</td>\n",
       "      <td>1.010108</td>\n",
       "      <td>0.882692</td>\n",
       "      <td>2</td>\n",
       "      <td>0</td>\n",
       "      <td>1</td>\n",
       "      <td>1</td>\n",
       "      <td>1</td>\n",
       "      <td>1</td>\n",
       "      <td>2</td>\n",
       "    </tr>\n",
       "  </tbody>\n",
       "</table>\n",
       "</div>"
      ],
      "text/plain": [
       "   Id  Age BusinessTravel              Department  DistanceFromHome  Education EducationField  EmployeeNumber  EnvironmentSatisfaction  Gender  JobInvolvement                 JobRole  JobSatisfaction MaritalStatus  MonthlyIncome  NumCompaniesWorked OverTime  PercentSalaryHike  PerformanceRating  StockOptionLevel  TotalWorkingYears  TrainingTimesLastYear  YearsAtCompany  YearsInCurrentRole  YearsSinceLastPromotion  YearsWithCurrManager  CommunicationSkill  Behaviour  tenure  No_Change_1  No_Change_2        CR    CR_all  AgeGroup  DistanceGroup  CompaOverallGroup  CRGroup  YearContGroup  No_Change_1grp  TotalWorkingYearsGrp\n",
       "0   1   28  Travel_Rarely  Research & Development                 9          3        Medical             377                        4    Male               3      Research Scientist                4       Married           2070                   1       No                 23                  4                 1                  5                      3               5                   2                        0                     4                   5          1     2.5            2            5  0.470187  0.410877         1              1                  0        0              0               0                     1\n",
       "1   2   31  Travel_Rarely                   Sales                 6          4        Medical             653                        1    Male               4         Sales Executive                4      Divorced           5460                   4       No                 22                  4                 2                 13                      4               7                   7                        5                     7                   3          1     2.6            2            8  0.951220  1.083763         1              0                  1        1              1               0                     3\n",
       "2   3   37  Travel_Rarely  Research & Development                 6          3        Medical             474                        3    Male               4      Research Scientist                1      Divorced           5974                   4      Yes                 13                  3                 2                 13                      2               7                   7                        6                     7                   4          1     2.6            1            7  1.356956  1.185788         1              0                  1        1              1               0                     3\n",
       "3   4   42  Travel_Rarely  Research & Development                 1          2  Life Sciences             827                        4  Female               2  Manufacturing Director                4       Married           6062                   9      Yes                 13                  3                 1                  8                      4               4                   3                        0                     2                   5          1     0.8            3            8  1.376945  1.203255         2              0                  1        1              0               1                     2\n",
       "4   5   45     Non-Travel  Research & Development                 4          2  Life Sciences             972                        3    Male               3   Laboratory Technician                2       Married           4447                   1       No                 12                  3                 0                  9                      5               9                   7                        0                     8                   2          1     4.5            7            9  1.010108  0.882692         2              0                  1        1              1               1                     2"
      ]
     },
     "execution_count": 60,
     "metadata": {},
     "output_type": "execute_result"
    },
    {
     "data": {
      "image/png": "[encoded data removed]",
      "text/plain": [
       "<Figure size 432x288 with 2 Axes>"
      ]
     },
     "metadata": {
      "needs_background": "light"
     },
     "output_type": "display_data"
    }
   ],
   "source": [
    "test['AgeGroup'] = pd.cut(test['Age'], bins=np.linspace(15, 60, 5), labels= False)\n",
    "test['DistanceGroup'] = pd.cut(test['DistanceFromHome'], bins=np.linspace(0, 30, 5), labels= False)\n",
    "test['CompaOverallGroup'] = pd.cut(test['CR_all'], bins= [-100, 0.5, 100], labels= False)\n",
    "test['CRGroup'] = pd.cut(test['CR'], bins= [-100, 0.5, 100], labels= False)\n",
    "test['YearContGroup'] = pd.cut(test['YearsWithCurrManager'], bins= [-1, 5, 10, 15, 20], labels= False)\n",
    "test['No_Change_1grp'] = pd.cut(test['No_Change_1'], bins= [-100, 2.5, 100], labels= False)\n",
    "test['TotalWorkingYearsGrp'] = pd.cut(test['TotalWorkingYears'], bins= [-100,0,5,10,15,20,25,30,35,40,45,50], labels= False)\n",
    "\n",
    "\n",
    "sns.heatmap(test.isnull(),False,False,'viridis')\n",
    "\n",
    "test.head()"
   ]
  },
  {
   "cell_type": "code",
   "execution_count": 61,
   "metadata": {},
   "outputs": [],
   "source": [
    "test['Time_in_each_comp'] = (test['Age'] - 20) / ((test)['NumCompaniesWorked'] + 1)\n",
    "test['JobSatisf_mean'] = (test['JobSatisfaction'] + test['JobInvolvement']) / 2\n",
    "test['Income_Distance'] = test['MonthlyIncome'] / test['DistanceFromHome']\n",
    "test['Stability'] = test['YearsInCurrentRole'] / test['YearsAtCompany']\n",
    "test['Stability'].fillna((test['Stability'].mean()), inplace=True)\n",
    "test['Income_YearsComp'] = test['MonthlyIncome'] / test['YearsAtCompany']\n",
    "test['Income_YearsComp'] = test['Income_YearsComp'].replace(np.Inf, 0)\n",
    "test['Fidelity'] = (test['NumCompaniesWorked']) / test['TotalWorkingYears']\n",
    "test['Fidelity'] = test['Fidelity'].replace(np.Inf, 0)\n"
   ]
  },
  {
   "cell_type": "code",
   "execution_count": 62,
   "metadata": {},
   "outputs": [],
   "source": [
    "test['MonthlyIncome'] = np.sqrt(test['MonthlyIncome'])\n",
    "test['No_Change_2'] = np.sqrt(test['No_Change_2'])\n",
    "#test['Time_in_each_comp'] = np.sqrt(test['Time_in_each_comp'])\n",
    "test['Income_YearsComp'] = np.sqrt(test['Income_YearsComp'])\n",
    "test['Fidelity'] = np.sqrt(test['Fidelity'])"
   ]
  },
  {
   "cell_type": "code",
   "execution_count": 63,
   "metadata": {},
   "outputs": [
    {
     "data": {
      "text/html": [
       "<div>\n",
       "<style scoped>\n",
       "    .dataframe tbody tr th:only-of-type {\n",
       "        vertical-align: middle;\n",
       "    }\n",
       "\n",
       "    .dataframe tbody tr th {\n",
       "        vertical-align: top;\n",
       "    }\n",
       "\n",
       "    .dataframe thead th {\n",
       "        text-align: right;\n",
       "    }\n",
       "</style>\n",
       "<table border=\"1\" class=\"dataframe\">\n",
       "  <thead>\n",
       "    <tr style=\"text-align: right;\">\n",
       "      <th></th>\n",
       "      <th>Id</th>\n",
       "      <th>Age</th>\n",
       "      <th>BusinessTravel</th>\n",
       "      <th>Department</th>\n",
       "      <th>DistanceFromHome</th>\n",
       "      <th>Education</th>\n",
       "      <th>EducationField</th>\n",
       "      <th>EmployeeNumber</th>\n",
       "      <th>EnvironmentSatisfaction</th>\n",
       "      <th>Gender</th>\n",
       "      <th>JobInvolvement</th>\n",
       "      <th>JobRole</th>\n",
       "      <th>JobSatisfaction</th>\n",
       "      <th>MaritalStatus</th>\n",
       "      <th>MonthlyIncome</th>\n",
       "      <th>NumCompaniesWorked</th>\n",
       "      <th>OverTime</th>\n",
       "      <th>PercentSalaryHike</th>\n",
       "      <th>PerformanceRating</th>\n",
       "      <th>StockOptionLevel</th>\n",
       "      <th>TotalWorkingYears</th>\n",
       "      <th>TrainingTimesLastYear</th>\n",
       "      <th>YearsAtCompany</th>\n",
       "      <th>YearsInCurrentRole</th>\n",
       "      <th>YearsSinceLastPromotion</th>\n",
       "      <th>YearsWithCurrManager</th>\n",
       "      <th>CommunicationSkill</th>\n",
       "      <th>Behaviour</th>\n",
       "      <th>tenure</th>\n",
       "      <th>No_Change_1</th>\n",
       "      <th>No_Change_2</th>\n",
       "      <th>CR</th>\n",
       "      <th>CR_all</th>\n",
       "      <th>AgeGroup</th>\n",
       "      <th>DistanceGroup</th>\n",
       "      <th>CompaOverallGroup</th>\n",
       "      <th>CRGroup</th>\n",
       "      <th>YearContGroup</th>\n",
       "      <th>No_Change_1grp</th>\n",
       "      <th>TotalWorkingYearsGrp</th>\n",
       "      <th>Time_in_each_comp</th>\n",
       "      <th>JobSatisf_mean</th>\n",
       "      <th>Income_Distance</th>\n",
       "      <th>Stability</th>\n",
       "      <th>Income_YearsComp</th>\n",
       "      <th>Fidelity</th>\n",
       "    </tr>\n",
       "  </thead>\n",
       "  <tbody>\n",
       "    <tr>\n",
       "      <th>0</th>\n",
       "      <td>1</td>\n",
       "      <td>28</td>\n",
       "      <td>Travel_Rarely</td>\n",
       "      <td>Research &amp; Development</td>\n",
       "      <td>9</td>\n",
       "      <td>3</td>\n",
       "      <td>Medical</td>\n",
       "      <td>377</td>\n",
       "      <td>4</td>\n",
       "      <td>Male</td>\n",
       "      <td>3</td>\n",
       "      <td>Research Scientist</td>\n",
       "      <td>4</td>\n",
       "      <td>Married</td>\n",
       "      <td>45.497253</td>\n",
       "      <td>1</td>\n",
       "      <td>No</td>\n",
       "      <td>23</td>\n",
       "      <td>4</td>\n",
       "      <td>1</td>\n",
       "      <td>5</td>\n",
       "      <td>3</td>\n",
       "      <td>5</td>\n",
       "      <td>2</td>\n",
       "      <td>0</td>\n",
       "      <td>4</td>\n",
       "      <td>5</td>\n",
       "      <td>1</td>\n",
       "      <td>2.5</td>\n",
       "      <td>2</td>\n",
       "      <td>2.236068</td>\n",
       "      <td>0.470187</td>\n",
       "      <td>0.410877</td>\n",
       "      <td>1</td>\n",
       "      <td>1</td>\n",
       "      <td>0</td>\n",
       "      <td>0</td>\n",
       "      <td>0</td>\n",
       "      <td>0</td>\n",
       "      <td>1</td>\n",
       "      <td>4.0</td>\n",
       "      <td>3.5</td>\n",
       "      <td>230.000000</td>\n",
       "      <td>0.400000</td>\n",
       "      <td>20.346990</td>\n",
       "      <td>0.447214</td>\n",
       "    </tr>\n",
       "    <tr>\n",
       "      <th>1</th>\n",
       "      <td>2</td>\n",
       "      <td>31</td>\n",
       "      <td>Travel_Rarely</td>\n",
       "      <td>Sales</td>\n",
       "      <td>6</td>\n",
       "      <td>4</td>\n",
       "      <td>Medical</td>\n",
       "      <td>653</td>\n",
       "      <td>1</td>\n",
       "      <td>Male</td>\n",
       "      <td>4</td>\n",
       "      <td>Sales Executive</td>\n",
       "      <td>4</td>\n",
       "      <td>Divorced</td>\n",
       "      <td>73.891813</td>\n",
       "      <td>4</td>\n",
       "      <td>No</td>\n",
       "      <td>22</td>\n",
       "      <td>4</td>\n",
       "      <td>2</td>\n",
       "      <td>13</td>\n",
       "      <td>4</td>\n",
       "      <td>7</td>\n",
       "      <td>7</td>\n",
       "      <td>5</td>\n",
       "      <td>7</td>\n",
       "      <td>3</td>\n",
       "      <td>1</td>\n",
       "      <td>2.6</td>\n",
       "      <td>2</td>\n",
       "      <td>2.828427</td>\n",
       "      <td>0.951220</td>\n",
       "      <td>1.083763</td>\n",
       "      <td>1</td>\n",
       "      <td>0</td>\n",
       "      <td>1</td>\n",
       "      <td>1</td>\n",
       "      <td>1</td>\n",
       "      <td>0</td>\n",
       "      <td>3</td>\n",
       "      <td>2.2</td>\n",
       "      <td>4.0</td>\n",
       "      <td>910.000000</td>\n",
       "      <td>1.000000</td>\n",
       "      <td>27.928480</td>\n",
       "      <td>0.554700</td>\n",
       "    </tr>\n",
       "    <tr>\n",
       "      <th>2</th>\n",
       "      <td>3</td>\n",
       "      <td>37</td>\n",
       "      <td>Travel_Rarely</td>\n",
       "      <td>Research &amp; Development</td>\n",
       "      <td>6</td>\n",
       "      <td>3</td>\n",
       "      <td>Medical</td>\n",
       "      <td>474</td>\n",
       "      <td>3</td>\n",
       "      <td>Male</td>\n",
       "      <td>4</td>\n",
       "      <td>Research Scientist</td>\n",
       "      <td>1</td>\n",
       "      <td>Divorced</td>\n",
       "      <td>77.291655</td>\n",
       "      <td>4</td>\n",
       "      <td>Yes</td>\n",
       "      <td>13</td>\n",
       "      <td>3</td>\n",
       "      <td>2</td>\n",
       "      <td>13</td>\n",
       "      <td>2</td>\n",
       "      <td>7</td>\n",
       "      <td>7</td>\n",
       "      <td>6</td>\n",
       "      <td>7</td>\n",
       "      <td>4</td>\n",
       "      <td>1</td>\n",
       "      <td>2.6</td>\n",
       "      <td>1</td>\n",
       "      <td>2.645751</td>\n",
       "      <td>1.356956</td>\n",
       "      <td>1.185788</td>\n",
       "      <td>1</td>\n",
       "      <td>0</td>\n",
       "      <td>1</td>\n",
       "      <td>1</td>\n",
       "      <td>1</td>\n",
       "      <td>0</td>\n",
       "      <td>3</td>\n",
       "      <td>3.4</td>\n",
       "      <td>2.5</td>\n",
       "      <td>995.666667</td>\n",
       "      <td>1.000000</td>\n",
       "      <td>29.213500</td>\n",
       "      <td>0.554700</td>\n",
       "    </tr>\n",
       "    <tr>\n",
       "      <th>3</th>\n",
       "      <td>4</td>\n",
       "      <td>42</td>\n",
       "      <td>Travel_Rarely</td>\n",
       "      <td>Research &amp; Development</td>\n",
       "      <td>1</td>\n",
       "      <td>2</td>\n",
       "      <td>Life Sciences</td>\n",
       "      <td>827</td>\n",
       "      <td>4</td>\n",
       "      <td>Female</td>\n",
       "      <td>2</td>\n",
       "      <td>Manufacturing Director</td>\n",
       "      <td>4</td>\n",
       "      <td>Married</td>\n",
       "      <td>77.858847</td>\n",
       "      <td>9</td>\n",
       "      <td>Yes</td>\n",
       "      <td>13</td>\n",
       "      <td>3</td>\n",
       "      <td>1</td>\n",
       "      <td>8</td>\n",
       "      <td>4</td>\n",
       "      <td>4</td>\n",
       "      <td>3</td>\n",
       "      <td>0</td>\n",
       "      <td>2</td>\n",
       "      <td>5</td>\n",
       "      <td>1</td>\n",
       "      <td>0.8</td>\n",
       "      <td>3</td>\n",
       "      <td>2.828427</td>\n",
       "      <td>1.376945</td>\n",
       "      <td>1.203255</td>\n",
       "      <td>2</td>\n",
       "      <td>0</td>\n",
       "      <td>1</td>\n",
       "      <td>1</td>\n",
       "      <td>0</td>\n",
       "      <td>1</td>\n",
       "      <td>2</td>\n",
       "      <td>2.2</td>\n",
       "      <td>3.0</td>\n",
       "      <td>6062.000000</td>\n",
       "      <td>0.750000</td>\n",
       "      <td>38.929423</td>\n",
       "      <td>1.060660</td>\n",
       "    </tr>\n",
       "    <tr>\n",
       "      <th>4</th>\n",
       "      <td>5</td>\n",
       "      <td>45</td>\n",
       "      <td>Non-Travel</td>\n",
       "      <td>Research &amp; Development</td>\n",
       "      <td>4</td>\n",
       "      <td>2</td>\n",
       "      <td>Life Sciences</td>\n",
       "      <td>972</td>\n",
       "      <td>3</td>\n",
       "      <td>Male</td>\n",
       "      <td>3</td>\n",
       "      <td>Laboratory Technician</td>\n",
       "      <td>2</td>\n",
       "      <td>Married</td>\n",
       "      <td>66.685831</td>\n",
       "      <td>1</td>\n",
       "      <td>No</td>\n",
       "      <td>12</td>\n",
       "      <td>3</td>\n",
       "      <td>0</td>\n",
       "      <td>9</td>\n",
       "      <td>5</td>\n",
       "      <td>9</td>\n",
       "      <td>7</td>\n",
       "      <td>0</td>\n",
       "      <td>8</td>\n",
       "      <td>2</td>\n",
       "      <td>1</td>\n",
       "      <td>4.5</td>\n",
       "      <td>7</td>\n",
       "      <td>3.000000</td>\n",
       "      <td>1.010108</td>\n",
       "      <td>0.882692</td>\n",
       "      <td>2</td>\n",
       "      <td>0</td>\n",
       "      <td>1</td>\n",
       "      <td>1</td>\n",
       "      <td>1</td>\n",
       "      <td>1</td>\n",
       "      <td>2</td>\n",
       "      <td>12.5</td>\n",
       "      <td>2.5</td>\n",
       "      <td>1111.750000</td>\n",
       "      <td>0.777778</td>\n",
       "      <td>22.228610</td>\n",
       "      <td>0.333333</td>\n",
       "    </tr>\n",
       "  </tbody>\n",
       "</table>\n",
       "</div>"
      ],
      "text/plain": [
       "   Id  Age BusinessTravel              Department  DistanceFromHome  Education EducationField  EmployeeNumber  EnvironmentSatisfaction  Gender  JobInvolvement                 JobRole  JobSatisfaction MaritalStatus  MonthlyIncome  NumCompaniesWorked OverTime  PercentSalaryHike  PerformanceRating  StockOptionLevel  TotalWorkingYears  TrainingTimesLastYear  YearsAtCompany  YearsInCurrentRole  YearsSinceLastPromotion  YearsWithCurrManager  CommunicationSkill  Behaviour  tenure  No_Change_1  No_Change_2        CR    CR_all  AgeGroup  DistanceGroup  CompaOverallGroup  CRGroup  YearContGroup  No_Change_1grp  TotalWorkingYearsGrp  Time_in_each_comp  JobSatisf_mean  Income_Distance  Stability  Income_YearsComp  Fidelity\n",
       "0   1   28  Travel_Rarely  Research & Development                 9          3        Medical             377                        4    Male               3      Research Scientist                4       Married      45.497253                   1       No                 23                  4                 1                  5                      3               5                   2                        0                     4                   5          1     2.5            2     2.236068  0.470187  0.410877         1              1                  0        0              0               0                     1                4.0             3.5       230.000000   0.400000         20.346990  0.447214\n",
       "1   2   31  Travel_Rarely                   Sales                 6          4        Medical             653                        1    Male               4         Sales Executive                4      Divorced      73.891813                   4       No                 22                  4                 2                 13                      4               7                   7                        5                     7                   3          1     2.6            2     2.828427  0.951220  1.083763         1              0                  1        1              1               0                     3                2.2             4.0       910.000000   1.000000         27.928480  0.554700\n",
       "2   3   37  Travel_Rarely  Research & Development                 6          3        Medical             474                        3    Male               4      Research Scientist                1      Divorced      77.291655                   4      Yes                 13                  3                 2                 13                      2               7                   7                        6                     7                   4          1     2.6            1     2.645751  1.356956  1.185788         1              0                  1        1              1               0                     3                3.4             2.5       995.666667   1.000000         29.213500  0.554700\n",
       "3   4   42  Travel_Rarely  Research & Development                 1          2  Life Sciences             827                        4  Female               2  Manufacturing Director                4       Married      77.858847                   9      Yes                 13                  3                 1                  8                      4               4                   3                        0                     2                   5          1     0.8            3     2.828427  1.376945  1.203255         2              0                  1        1              0               1                     2                2.2             3.0      6062.000000   0.750000         38.929423  1.060660\n",
       "4   5   45     Non-Travel  Research & Development                 4          2  Life Sciences             972                        3    Male               3   Laboratory Technician                2       Married      66.685831                   1       No                 12                  3                 0                  9                      5               9                   7                        0                     8                   2          1     4.5            7     3.000000  1.010108  0.882692         2              0                  1        1              1               1                     2               12.5             2.5      1111.750000   0.777778         22.228610  0.333333"
      ]
     },
     "execution_count": 63,
     "metadata": {},
     "output_type": "execute_result"
    }
   ],
   "source": [
    "test.head()"
   ]
  },
  {
   "cell_type": "code",
   "execution_count": 64,
   "metadata": {},
   "outputs": [
    {
     "data": {
      "text/plain": [
       "(470, 31)"
      ]
     },
     "execution_count": 64,
     "metadata": {},
     "output_type": "execute_result"
    }
   ],
   "source": [
    "X_test = test[X_train_cols]\n",
    "X_test.shape"
   ]
  },
  {
   "cell_type": "code",
   "execution_count": 65,
   "metadata": {},
   "outputs": [],
   "source": [
    "X_test_pp = columns_trans.transform(X_test)\n"
   ]
  },
  {
   "cell_type": "markdown",
   "metadata": {},
   "source": [
    "## 9. Do a final Check on the shape of Train & Test Data. As this is the end of preprocessing"
   ]
  },
  {
   "cell_type": "code",
   "execution_count": 66,
   "metadata": {},
   "outputs": [
    {
     "name": "stdout",
     "output_type": "stream",
     "text": [
      "(1628, 52)\n",
      "(1628,)\n",
      "(470, 52)\n"
     ]
    }
   ],
   "source": [
    "print(X_train_pp.shape)\n",
    "print(y_train.shape)\n",
    "print(X_test_pp.shape)"
   ]
  },
  {
   "cell_type": "markdown",
   "metadata": {},
   "source": [
    "## 10. Import The XGB Classifer from Sklearn Library"
   ]
  },
  {
   "cell_type": "code",
   "execution_count": 71,
   "metadata": {},
   "outputs": [],
   "source": [
    "import xgboost as xgb\n",
    "from sklearn.model_selection import GridSearchCV, RandomizedSearchCV\n",
    "from datetime import datetime\n"
   ]
  },
  {
   "cell_type": "markdown",
   "metadata": {},
   "source": [
    "## 11. Use Grid Search to find the hyperparameters"
   ]
  },
  {
   "cell_type": "code",
   "execution_count": 138,
   "metadata": {},
   "outputs": [
    {
     "name": "stdout",
     "output_type": "stream",
     "text": [
      "Fitting 5 folds for each of 800 candidates, totalling 4000 fits\n"
     ]
    },
    {
     "name": "stderr",
     "output_type": "stream",
     "text": [
      "[Parallel(n_jobs=-1)]: Using backend LokyBackend with 4 concurrent workers.\n",
      "[Parallel(n_jobs=-1)]: Done  24 tasks      | elapsed:   32.6s\n",
      "[Parallel(n_jobs=-1)]: Done 120 tasks      | elapsed:  2.2min\n",
      "[Parallel(n_jobs=-1)]: Done 280 tasks      | elapsed:  4.6min\n",
      "[Parallel(n_jobs=-1)]: Done 504 tasks      | elapsed:  8.3min\n",
      "[Parallel(n_jobs=-1)]: Done 792 tasks      | elapsed: 11.7min\n",
      "[Parallel(n_jobs=-1)]: Done 1144 tasks      | elapsed: 16.1min\n",
      "[Parallel(n_jobs=-1)]: Done 1560 tasks      | elapsed: 21.8min\n",
      "[Parallel(n_jobs=-1)]: Done 2040 tasks      | elapsed: 27.9min\n",
      "[Parallel(n_jobs=-1)]: Done 2584 tasks      | elapsed: 35.0min\n",
      "[Parallel(n_jobs=-1)]: Done 3192 tasks      | elapsed: 43.2min\n",
      "[Parallel(n_jobs=-1)]: Done 3864 tasks      | elapsed: 52.4min\n",
      "[Parallel(n_jobs=-1)]: Done 4000 out of 4000 | elapsed: 54.4min finished\n"
     ]
    },
    {
     "name": "stdout",
     "output_type": "stream",
     "text": [
      "\n",
      " Time taken: 0 hours 54 minutes and 25.23 seconds.\n"
     ]
    }
   ],
   "source": [
    "def timer(start_time=None):\n",
    "    if not start_time:\n",
    "        start_time = datetime.now()\n",
    "        return start_time\n",
    "    elif start_time:\n",
    "        thour, temp_sec = divmod((datetime.now() - start_time).total_seconds(), 3600)\n",
    "        tmin, tsec = divmod(temp_sec, 60)\n",
    "        print('\\n Time taken: %i hours %i minutes and %s seconds.' % (thour, tmin, round(tsec, 2)))\n",
    "        \n",
    "        \n",
    "xgb_cfl = xgb.XGBClassifier(n_jobs = -1)\n",
    "\n",
    "\n",
    "# A parameter grid for XGBoost\n",
    "params = {\n",
    "        'n_estimators' : [100, 200, 500, 750],\n",
    "        'learning_rate' : [0.01, 0.02, 0.05, 0.1, 0.25],\n",
    "        'min_child_weight': [1, 5, 7, 10],\n",
    "        'gamma': [0.001, 0.01, 0.1, 0.5, 1, 1.5, 5],\n",
    "        'subsample': [0.6, 0.8, 1.0],\n",
    "        'colsample_bytree': [0.6, 0.8, 1.0],\n",
    "        'max_depth': [3, 4, 5, 10, 12]\n",
    "        }\n",
    "\n",
    "folds = 5\n",
    "param_comb = 800\n",
    "\n",
    "random_search = RandomizedSearchCV(xgb_cfl, param_distributions=params, n_iter=param_comb, scoring='roc_auc', n_jobs=-1, cv=5, verbose=3, random_state=42)\n",
    "\n",
    "# Here we go\n",
    "start_time = timer(None) # timing starts from this point for \"start_time\" variable\n",
    "random_search.fit(X_train_pp, y_train)\n",
    "timer(start_time) # timing ends here for \"start_time\" variable\n"
   ]
  },
  {
   "cell_type": "code",
   "execution_count": 139,
   "metadata": {},
   "outputs": [
    {
     "name": "stdout",
     "output_type": "stream",
     "text": [
      "\n",
      " All results:\n",
      "\n",
      " Best estimator:\n",
      "XGBClassifier(base_score=0.5, booster='gbtree', colsample_bylevel=1,\n",
      "              colsample_bynode=1, colsample_bytree=0.6, gamma=0.001,\n",
      "              learning_rate=0.25, max_delta_step=0, max_depth=10,\n",
      "              min_child_weight=1, missing=None, n_estimators=200, n_jobs=-1,\n",
      "              nthread=None, objective='binary:logistic', random_state=0,\n",
      "              reg_alpha=0, reg_lambda=1, scale_pos_weight=1, seed=None,\n",
      "              silent=None, subsample=0.8, verbosity=1)\n",
      "\n",
      " Best accuracy for 5-fold search with 800 parameter combinations:\n",
      "0.9994636406934299\n",
      "\n",
      " Best hyperparameters:\n",
      "{'subsample': 0.8, 'n_estimators': 200, 'min_child_weight': 1, 'max_depth': 10, 'learning_rate': 0.25, 'gamma': 0.001, 'colsample_bytree': 0.6}\n"
     ]
    }
   ],
   "source": [
    "print('\\n All results:')\n",
    "#print(random_search.cv_results_)\n",
    "print('\\n Best estimator:')\n",
    "print(random_search.best_estimator_)\n",
    "print('\\n Best accuracy for %d-fold search with %d parameter combinations:' % (folds, param_comb))\n",
    "print(random_search.best_score_ )\n",
    "print('\\n Best hyperparameters:')\n",
    "print(random_search.best_params_)\n",
    "results = pd.DataFrame(random_search.cv_results_)\n",
    "results.to_csv('xgb-random-grid-search-results-02.csv', index=False)"
   ]
  },
  {
   "cell_type": "markdown",
   "metadata": {},
   "source": [
    "## 12. Fit the model with the XGB Classifier with Best Hyperparameters"
   ]
  },
  {
   "cell_type": "code",
   "execution_count": 94,
   "metadata": {},
   "outputs": [
    {
     "data": {
      "text/plain": [
       "XGBClassifier(base_score=0.5, booster='gbtree', colsample_bylevel=1,\n",
       "              colsample_bynode=1, colsample_bytree=1.0, gamma=0.01,\n",
       "              interaction_constraints='', learning_rate=0.02, max_delta_step=0,\n",
       "              max_depth=12, min_child_weight=1, missing=None, n_estimators=750,\n",
       "              n_jobs=-1, nthread=None, num_parallel_tree=1,\n",
       "              objective='binary:logistic', random_state=0, reg_alpha=0,\n",
       "              reg_lambda=1, scale_pos_weight=1, seed=None, silent=None,\n",
       "              subsample=1, tree_method='exact', validate_parameters=1,\n",
       "              verbosity=1)"
      ]
     },
     "execution_count": 94,
     "metadata": {},
     "output_type": "execute_result"
    }
   ],
   "source": [
    "# xgb \n",
    "xgb_clf = xgb.XGBClassifier(base_score=0.5, booster='gbtree', colsample_bylevel=1,\n",
    "              colsample_bynode=1, colsample_bytree=1.0, gamma=0.01,\n",
    "              importance_type='gain', interaction_constraints='',\n",
    "              learning_rate=0.02, max_delta_step=0, max_depth=12,\n",
    "              min_child_weight=1, missing= None ,\n",
    "              n_estimators=750, n_jobs=-1, num_parallel_tree=1,\n",
    "              objective='binary:logistic', random_state=0, reg_alpha=0,\n",
    "              reg_lambda=1, scale_pos_weight=1, subsample=1,\n",
    "              tree_method='exact', validate_parameters=1)\n",
    "\n",
    "\n",
    "xgb_clf.fit(X_train_pp, y_train)\n"
   ]
  },
  {
   "cell_type": "code",
   "execution_count": 95,
   "metadata": {},
   "outputs": [
    {
     "data": {
      "text/plain": [
       "1.0"
      ]
     },
     "execution_count": 95,
     "metadata": {},
     "output_type": "execute_result"
    }
   ],
   "source": [
    "xgb_clf.score(X_train_pp, y_train)"
   ]
  },
  {
   "cell_type": "markdown",
   "metadata": {},
   "source": [
    "## 13. Get the Predicted Probabilities of Attrition with XGB Classifier (Kaggle Submission #1)"
   ]
  },
  {
   "cell_type": "code",
   "execution_count": 96,
   "metadata": {},
   "outputs": [],
   "source": [
    "y_pred = xgb_clf.predict_proba(X_test_pp )"
   ]
  },
  {
   "cell_type": "code",
   "execution_count": 97,
   "metadata": {},
   "outputs": [
    {
     "name": "stdout",
     "output_type": "stream",
     "text": [
      "      Id  Attrition\n",
      "0      1   0.002298\n",
      "1      2   0.030858\n",
      "2      3   0.005094\n",
      "3      4   0.032337\n",
      "4      5   0.003861\n",
      "..   ...        ...\n",
      "465  466   0.085795\n",
      "466  467   0.920488\n",
      "467  468   0.663670\n",
      "468  469   0.013050\n",
      "469  470   0.002916\n",
      "\n",
      "[470 rows x 2 columns]\n"
     ]
    }
   ],
   "source": [
    "df = pd.DataFrame(y_pred, columns =['Delete', 'Attrition'])  \n",
    "\n",
    "df.insert(0, 'Id', test['Id'])\n",
    "df=df.drop(['Delete'], axis = 1)\n",
    "print(df)\n",
    "\n"
   ]
  },
  {
   "cell_type": "code",
   "execution_count": 141,
   "metadata": {},
   "outputs": [],
   "source": [
    "df.to_csv('XGB_FINAL_SUBMISSION', index = False)"
   ]
  },
  {
   "cell_type": "markdown",
   "metadata": {},
   "source": [
    "## 14. Fit the model with the Light GBM Classifier with goss boosting"
   ]
  },
  {
   "cell_type": "code",
   "execution_count": 181,
   "metadata": {},
   "outputs": [],
   "source": [
    "import lightgbm as lgb\n",
    "clf = lgb.LGBMClassifier()\n"
   ]
  },
  {
   "cell_type": "code",
   "execution_count": 182,
   "metadata": {},
   "outputs": [],
   "source": [
    "# lgb \n",
    "clf = lgb.LGBMClassifier() \n"
   ]
  },
  {
   "cell_type": "code",
   "execution_count": 183,
   "metadata": {},
   "outputs": [],
   "source": [
    "categorical_feats = ['OverTime', 'MaritalStatus', 'JobRole', 'Gender', 'EducationField', 'Department', 'BusinessTravel']"
   ]
  },
  {
   "cell_type": "code",
   "execution_count": 184,
   "metadata": {},
   "outputs": [
    {
     "name": "stderr",
     "output_type": "stream",
     "text": [
      "/Users/debojjalbagchi/opt/anaconda3/lib/python3.7/site-packages/ipykernel_launcher.py:4: SettingWithCopyWarning: \n",
      "A value is trying to be set on a copy of a slice from a DataFrame.\n",
      "Try using .loc[row_indexer,col_indexer] = value instead\n",
      "\n",
      "See the caveats in the documentation: https://pandas.pydata.org/pandas-docs/stable/user_guide/indexing.html#returning-a-view-versus-a-copy\n",
      "  after removing the cwd from sys.path.\n"
     ]
    }
   ],
   "source": [
    "for c in categorical_feats:\n",
    "    X_train[c] = X_train[c].astype('category')\n",
    "for c in categorical_feats:\n",
    "    X_test[c] = X_test[c].astype('category')"
   ]
  },
  {
   "cell_type": "code",
   "execution_count": 185,
   "metadata": {},
   "outputs": [],
   "source": [
    "lgb_train = lgb.Dataset(X_train, y_train , categorical_feature = categorical_feats)"
   ]
  },
  {
   "cell_type": "code",
   "execution_count": 186,
   "metadata": {},
   "outputs": [],
   "source": [
    "gbm = clf.fit(X_train, y_train , categorical_feature=categorical_feats)"
   ]
  },
  {
   "cell_type": "markdown",
   "metadata": {},
   "source": [
    "## 15. Get the Predicted Probabilities of Attrition using Light GBM Classifier (Kaggle Submission #2)"
   ]
  },
  {
   "cell_type": "code",
   "execution_count": 187,
   "metadata": {},
   "outputs": [],
   "source": [
    "y_pred = clf.predict_proba(X_test)"
   ]
  },
  {
   "cell_type": "code",
   "execution_count": 188,
   "metadata": {},
   "outputs": [
    {
     "name": "stdout",
     "output_type": "stream",
     "text": [
      "      Id  Attrition\n",
      "0      1   0.005776\n",
      "1      2   0.002193\n",
      "2      3   0.005664\n",
      "3      4   0.011200\n",
      "4      5   0.000900\n",
      "..   ...        ...\n",
      "465  466   0.268247\n",
      "466  467   0.993305\n",
      "467  468   0.020418\n",
      "468  469   0.026015\n",
      "469  470   0.001971\n",
      "\n",
      "[470 rows x 2 columns]\n"
     ]
    }
   ],
   "source": [
    "df = pd.DataFrame(y_pred, columns =['Delete', 'Attrition'])  \n",
    "\n",
    "df.insert(0, 'Id', test['Id'])\n",
    "df=df.drop(['Delete'], axis = 1)\n",
    "print(df)\n",
    "\n"
   ]
  },
  {
   "cell_type": "code",
   "execution_count": 189,
   "metadata": {},
   "outputs": [],
   "source": [
    "df.to_csv('LGBM_FINAL_SUBMISSION', index = False)"
   ]
  },
  {
   "cell_type": "markdown",
   "metadata": {},
   "source": [
    "## 16. Compare the models (Validation)"
   ]
  },
  {
   "cell_type": "code",
   "execution_count": 194,
   "metadata": {},
   "outputs": [],
   "source": [
    "import sklearn.model_selection\n",
    "X_train_val, X_test_val, y_train_val, y_test_val = sklearn.model_selection.train_test_split(X_train_pp, y_train, train_size=0.8,test_size=0.2, random_state=43)\n",
    "X_train_val_lgb, X_test_val_lgb, y_train_val_lgb, y_test_val_lgb = sklearn.model_selection.train_test_split(X_train, y_train, train_size=0.8,test_size=0.2, random_state=43)\n"
   ]
  },
  {
   "cell_type": "code",
   "execution_count": 195,
   "metadata": {},
   "outputs": [],
   "source": [
    "xgb_clf.fit(X_train_val, y_train_val)\n",
    "clf.fit(X_train_val_lgb, y_train_val_lgb)\n",
    "y_pred_xgb_val = xgb_clf.predict(X_test_val )\n",
    "y_pred_lgbm_val = clf.predict(X_test_val_lgb )"
   ]
  },
  {
   "cell_type": "code",
   "execution_count": 196,
   "metadata": {},
   "outputs": [
    {
     "data": {
      "text/plain": [
       "<function sklearn.metrics.classification.accuracy_score(y_true, y_pred, normalize=True, sample_weight=None)>"
      ]
     },
     "execution_count": 196,
     "metadata": {},
     "output_type": "execute_result"
    }
   ],
   "source": [
    "sklearn.metrics.accuracy_score"
   ]
  },
  {
   "cell_type": "code",
   "execution_count": 197,
   "metadata": {},
   "outputs": [
    {
     "name": "stdout",
     "output_type": "stream",
     "text": [
      "XGB Classifier\n",
      "\n",
      "\n",
      "ACCURACY:\n",
      "0.950920245398773\n",
      "\n",
      "\n",
      "AUC:\n",
      "0.9555555555555555\n",
      "\n",
      "\n",
      "Classification Report:\n",
      "              precision    recall  f1-score   support\n",
      "\n",
      "           0       1.00      0.91      0.95       180\n",
      "           1       0.90      1.00      0.95       146\n",
      "\n",
      "    accuracy                           0.95       326\n",
      "   macro avg       0.95      0.96      0.95       326\n",
      "weighted avg       0.96      0.95      0.95       326\n",
      "\n"
     ]
    }
   ],
   "source": [
    "print('XGB Classifier')\n",
    "print('\\n')\n",
    "\n",
    "print('ACCURACY:')\n",
    "\n",
    "print(sklearn.metrics.accuracy_score(y_test_val, y_pred_xgb_val))\n",
    "print('\\n')\n",
    "print('AUC:')\n",
    "\n",
    "print(sklearn.metrics.roc_auc_score(y_test_val, y_pred_xgb_val))\n",
    "print('\\n')\n",
    "\n",
    "print('Classification Report:')\n",
    "\n",
    "print(sklearn.metrics.classification_report(y_test_val, y_pred_xgb_val))"
   ]
  },
  {
   "cell_type": "code",
   "execution_count": 199,
   "metadata": {},
   "outputs": [
    {
     "name": "stdout",
     "output_type": "stream",
     "text": [
      "Light GBM Classifier\n",
      "\n",
      "\n",
      "ACCURACY\n",
      "0.9601226993865031\n",
      "\n",
      "\n",
      "AUC\n",
      "0.9638888888888889\n",
      "\n",
      "\n",
      "Classification Report:\n",
      "              precision    recall  f1-score   support\n",
      "\n",
      "           0       1.00      0.93      0.96       180\n",
      "           1       0.92      1.00      0.96       146\n",
      "\n",
      "    accuracy                           0.96       326\n",
      "   macro avg       0.96      0.96      0.96       326\n",
      "weighted avg       0.96      0.96      0.96       326\n",
      "\n"
     ]
    }
   ],
   "source": [
    "print('Light GBM Classifier')\n",
    "print('\\n')\n",
    "\n",
    "\n",
    "print('ACCURACY')\n",
    "\n",
    "print(sklearn.metrics.accuracy_score(y_test_val_lgb, y_pred_lgbm_val))\n",
    "print('\\n')\n",
    "\n",
    "print('AUC')\n",
    "\n",
    "print(sklearn.metrics.roc_auc_score(y_test_val_lgb, y_pred_lgbm_val))\n",
    "print('\\n')\n",
    "\n",
    "print('Classification Report:')\n",
    "\n",
    "print(sklearn.metrics.classification_report(y_test_val_lgb, y_pred_lgbm_val))"
   ]
  },
  {
   "cell_type": "code",
   "execution_count": null,
   "metadata": {},
   "outputs": [],
   "source": []
  }
 ],
 "metadata": {
  "kernelspec": {
   "display_name": "Python 3",
   "language": "python",
   "name": "python3"
  },
  "language_info": {
   "codemirror_mode": {
    "name": "ipython",
    "version": 3
   },
   "file_extension": ".py",
   "mimetype": "text/x-python",
   "name": "python",
   "nbconvert_exporter": "python",
   "pygments_lexer": "ipython3",
   "version": "3.7.6"
  }
 },
 "nbformat": 4,
 "nbformat_minor": 4
}
